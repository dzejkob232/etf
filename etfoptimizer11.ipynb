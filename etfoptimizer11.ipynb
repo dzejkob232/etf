{
  "cells": [
    {
      "cell_type": "markdown",
      "metadata": {
        "id": "view-in-github",
        "colab_type": "text"
      },
      "source": [
        "<a href=\"https://colab.research.google.com/github/dzejkob232/etf/blob/main/etfoptimizer11.ipynb\" target=\"_parent\"><img src=\"https://colab.research.google.com/assets/colab-badge.svg\" alt=\"Open In Colab\"/></a>"
      ]
    },
    {
      "cell_type": "code",
      "execution_count": 35,
      "id": "7b35e211-e24c-4216-ab55-727b8e0a8980",
      "metadata": {
        "id": "7b35e211-e24c-4216-ab55-727b8e0a8980",
        "colab": {
          "base_uri": "https://localhost:8080/"
        },
        "outputId": "3a2e6c2a-2b93-4e7f-effd-164420b960bf",
        "collapsed": true
      },
      "outputs": [
        {
          "output_type": "stream",
          "name": "stdout",
          "text": [
            "Requirement already satisfied: yfinance in /usr/local/lib/python3.10/dist-packages (0.2.48)\n",
            "Requirement already satisfied: pandas>=1.3.0 in /usr/local/lib/python3.10/dist-packages (from yfinance) (2.2.2)\n",
            "Requirement already satisfied: numpy>=1.16.5 in /usr/local/lib/python3.10/dist-packages (from yfinance) (1.26.4)\n",
            "Requirement already satisfied: requests>=2.31 in /usr/local/lib/python3.10/dist-packages (from yfinance) (2.32.3)\n",
            "Requirement already satisfied: multitasking>=0.0.7 in /usr/local/lib/python3.10/dist-packages (from yfinance) (0.0.11)\n",
            "Requirement already satisfied: lxml>=4.9.1 in /usr/local/lib/python3.10/dist-packages (from yfinance) (5.3.0)\n",
            "Requirement already satisfied: platformdirs>=2.0.0 in /usr/local/lib/python3.10/dist-packages (from yfinance) (4.3.6)\n",
            "Requirement already satisfied: pytz>=2022.5 in /usr/local/lib/python3.10/dist-packages (from yfinance) (2024.2)\n",
            "Requirement already satisfied: frozendict>=2.3.4 in /usr/local/lib/python3.10/dist-packages (from yfinance) (2.4.6)\n",
            "Requirement already satisfied: peewee>=3.16.2 in /usr/local/lib/python3.10/dist-packages (from yfinance) (3.17.7)\n",
            "Requirement already satisfied: beautifulsoup4>=4.11.1 in /usr/local/lib/python3.10/dist-packages (from yfinance) (4.12.3)\n",
            "Requirement already satisfied: html5lib>=1.1 in /usr/local/lib/python3.10/dist-packages (from yfinance) (1.1)\n",
            "Requirement already satisfied: soupsieve>1.2 in /usr/local/lib/python3.10/dist-packages (from beautifulsoup4>=4.11.1->yfinance) (2.6)\n",
            "Requirement already satisfied: six>=1.9 in /usr/local/lib/python3.10/dist-packages (from html5lib>=1.1->yfinance) (1.16.0)\n",
            "Requirement already satisfied: webencodings in /usr/local/lib/python3.10/dist-packages (from html5lib>=1.1->yfinance) (0.5.1)\n",
            "Requirement already satisfied: python-dateutil>=2.8.2 in /usr/local/lib/python3.10/dist-packages (from pandas>=1.3.0->yfinance) (2.8.2)\n",
            "Requirement already satisfied: tzdata>=2022.7 in /usr/local/lib/python3.10/dist-packages (from pandas>=1.3.0->yfinance) (2024.2)\n",
            "Requirement already satisfied: charset-normalizer<4,>=2 in /usr/local/lib/python3.10/dist-packages (from requests>=2.31->yfinance) (3.4.0)\n",
            "Requirement already satisfied: idna<4,>=2.5 in /usr/local/lib/python3.10/dist-packages (from requests>=2.31->yfinance) (3.10)\n",
            "Requirement already satisfied: urllib3<3,>=1.21.1 in /usr/local/lib/python3.10/dist-packages (from requests>=2.31->yfinance) (2.2.3)\n",
            "Requirement already satisfied: certifi>=2017.4.17 in /usr/local/lib/python3.10/dist-packages (from requests>=2.31->yfinance) (2024.8.30)\n"
          ]
        }
      ],
      "source": [
        "!pip install yfinance\n",
        "import yfinance as yf\n",
        "import numpy as np\n",
        "import pandas as pd\n",
        "from scipy.optimize import minimize\n",
        "import matplotlib.pyplot as plt\n"
      ]
    },
    {
      "cell_type": "code",
      "execution_count": 36,
      "id": "0ffc4c1d-5625-4fb5-8164-826bfd115f2f",
      "metadata": {
        "id": "0ffc4c1d-5625-4fb5-8164-826bfd115f2f"
      },
      "outputs": [],
      "source": [
        "\n",
        "def calculate_returns(data):\n",
        "    data = data.loc[:, ~data.columns.duplicated()]\n",
        "    returns = data.pct_change(fill_method=None)\n",
        "    returns = returns.dropna(how='all')\n",
        "    return returns\n",
        "\n",
        "def calculate_ewma_statistics(returns, span=1260):\n",
        "    # Check if the DataFrame is empty\n",
        "    if returns.empty:\n",
        "        raise ValueError(\"The returns DataFrame is empty. Please check your data.\")\n",
        "    ewma_mean = returns.ewm(span=span).mean().iloc[-1]\n",
        "    ewma_std = returns.ewm(span=span).std().iloc[-1]\n",
        "    return ewma_mean, ewma_std\n",
        "\n",
        "def calculate_ewma_covariance_matrix(returns, span=1260):\n",
        "    \"\"\"\n",
        "    Calculates the EWMA covariance matrix for all ETFs.\n",
        "    \"\"\"\n",
        "    ewm_cov = returns.ewm(span=span).cov()\n",
        "    # Identify which level of the MultiIndex contains the dates\n",
        "    level0 = ewm_cov.index.get_level_values(0)\n",
        "    level1 = ewm_cov.index.get_level_values(1)\n",
        "    if isinstance(level0[0], pd.Timestamp):\n",
        "        date_level = 0\n",
        "    elif isinstance(level1[0], pd.Timestamp):\n",
        "        date_level = 1\n",
        "    else:\n",
        "        raise ValueError(\"No date level found in ewm_cov index.\")\n",
        "    # Get the last date from the correct index level\n",
        "    last_date = ewm_cov.index.get_level_values(date_level).max()\n",
        "    # Extract the covariance matrix corresponding to the last date\n",
        "    ewma_cov_matrix = ewm_cov.xs(last_date, level=date_level)\n",
        "    return ewma_cov_matrix\n",
        "\n",
        "\n",
        "\n",
        "def calculate_sortino_ratio_ewma(returns, annual_rfr=0.04, span=1260):\n",
        "    daily_rfr = annual_rfr / 252\n",
        "    ewma_mean = returns.ewm(span=span).mean()\n",
        "    ewma_downside_std = returns[returns < daily_rfr].ewm(span=span).std()\n",
        "    expected_returns = ewma_mean.iloc[-1]\n",
        "    downside_std = ewma_downside_std.iloc[-1]\n",
        "    sortino_ratios = (expected_returns - daily_rfr) / downside_std\n",
        "    sortino_ratios = sortino_ratios.replace([np.inf, -np.inf], np.nan).dropna().sort_values(ascending=False)\n",
        "    return sortino_ratios\n",
        "\n",
        "def optimize_portfolio_ewma(returns, selected_etfs, annual_rfr, span=1260):\n",
        "    daily_rfr = annual_rfr / 252\n",
        "    returns_selected = returns[selected_etfs].dropna(how='any')\n",
        "    if returns_selected.empty or len(returns_selected) < 2:\n",
        "        raise ValueError(\"No overlapping data or insufficient data for selected ETFs.\")\n",
        "    ewma_expected_returns = returns_selected.ewm(span=span).mean().iloc[-1]\n",
        "    ewm_cov = returns_selected.ewm(span=span).cov().dropna()\n",
        "    last_date = ewm_cov.index.get_level_values(0).max()\n",
        "    ewma_cov_matrix = ewm_cov.loc[last_date]\n",
        "    ewma_cov_matrix = ewma_cov_matrix.loc[selected_etfs, selected_etfs]\n",
        "    def negative_sharpe_ratio(weights):\n",
        "        portfolio_return = np.dot(weights, ewma_expected_returns)\n",
        "        portfolio_std_dev = np.sqrt(np.dot(weights.T, np.dot(ewma_cov_matrix, weights)))\n",
        "        sharpe_ratio = (portfolio_return - daily_rfr) / portfolio_std_dev\n",
        "        return -sharpe_ratio\n",
        "    n_assets = len(selected_etfs)\n",
        "    initial_guess = np.array([1 / n_assets] * n_assets)\n",
        "    bounds = [(0, 1)] * n_assets\n",
        "    constraints = {'type': 'eq', 'fun': lambda x: np.sum(x) - 1}\n",
        "    result = minimize(\n",
        "        negative_sharpe_ratio,\n",
        "        initial_guess,\n",
        "        method='SLSQP',\n",
        "        bounds=bounds,\n",
        "        constraints=constraints\n",
        "    )\n",
        "    if result.success:\n",
        "        optimized_weights = result.x\n",
        "        portfolio_return = np.dot(optimized_weights, ewma_expected_returns)\n",
        "        portfolio_std_dev = np.sqrt(np.dot(optimized_weights.T, np.dot(ewma_cov_matrix, optimized_weights)))\n",
        "        sharpe_ratio = (portfolio_return - daily_rfr) / portfolio_std_dev\n",
        "        portfolio = pd.DataFrame({'ETF': selected_etfs, 'Weight': optimized_weights})\n",
        "        portfolio['Weight'] = portfolio['Weight'] / portfolio['Weight'].sum()\n",
        "        return portfolio, portfolio_return, portfolio_std_dev, sharpe_ratio\n",
        "    else:\n",
        "        raise ValueError(\"Optimization failed.\")\n",
        "\n",
        "def plot_ios(portfolios, returns, annual_rfr):\n",
        "    daily_rfr = annual_rfr / 252\n",
        "    plt.figure(figsize=(12, 8))\n",
        "    colors = plt.cm.tab10(np.linspace(0, 1, len(portfolios)))\n",
        "    max_sharpe = None\n",
        "    max_sharpe_return = None\n",
        "    max_sharpe_std_dev = None\n",
        "    for idx, portfolio_data in enumerate(portfolios):\n",
        "        portfolio = portfolio_data['Portfolio']\n",
        "        selected_etfs = portfolio['ETF'].tolist()\n",
        "        returns_selected = returns[selected_etfs].dropna(how='any')\n",
        "        if returns_selected.empty or len(returns_selected) < 2:\n",
        "            print(f\"No overlapping data or insufficient data for portfolio {idx+1}. Skipping.\")\n",
        "            continue\n",
        "        expected_returns = returns_selected.mean()\n",
        "        cov_matrix_selected = returns_selected.cov()\n",
        "        num_portfolios = 500\n",
        "        results = np.zeros((num_portfolios, 3))\n",
        "        for i in range(num_portfolios):\n",
        "            weights = np.random.random(len(selected_etfs))\n",
        "            weights /= np.sum(weights)\n",
        "            port_return = np.dot(weights, expected_returns)\n",
        "            port_std_dev = np.sqrt(np.dot(weights.T, np.dot(cov_matrix_selected, weights)))\n",
        "            sharpe_ratio = (port_return - daily_rfr) / port_std_dev\n",
        "            results[i] = [port_std_dev, port_return, sharpe_ratio]\n",
        "            if (max_sharpe is None) or (sharpe_ratio > max_sharpe):\n",
        "                max_sharpe = sharpe_ratio\n",
        "                max_sharpe_return = port_return\n",
        "                max_sharpe_std_dev = port_std_dev\n",
        "        color = colors[idx % len(colors)]\n",
        "        label = '+'.join(selected_etfs)\n",
        "        plt.scatter(results[:, 0], results[:, 1], label=label, color=color, alpha=0.5, s=10)\n",
        "    plt.scatter(0, daily_rfr, color='black', marker='o', label='Risk-Free Asset', s=50)\n",
        "    if max_sharpe is not None:\n",
        "        x_vals = np.linspace(0, max_sharpe_std_dev * 1.5, 100)\n",
        "        cal_line = daily_rfr + max_sharpe * x_vals\n",
        "        plt.plot(x_vals, cal_line, color='red', linestyle='--', label='Capital Allocation Line (CAL)')\n",
        "    plt.title('Investment Opportunity Set (IOS) of Suggested Portfolios')\n",
        "    plt.xlabel('Portfolio Standard Deviation')\n",
        "    plt.ylabel('Portfolio Expected Return')\n",
        "    plt.legend()\n",
        "    plt.grid(True)\n",
        "    plt.show()\n",
        "\n",
        "def plot_historical_performance(suggested_portfolios, returns):\n",
        "    plt.figure(figsize=(12, 8))\n",
        "    for idx, portfolio_data in enumerate(suggested_portfolios):\n",
        "        portfolio = portfolio_data['Portfolio']\n",
        "        selected_etfs = portfolio['ETF'].tolist()\n",
        "        weights = portfolio['Weight'].values\n",
        "        returns_selected = returns[selected_etfs].dropna(how='any')\n",
        "        if returns_selected.empty or len(returns_selected) < 2:\n",
        "            print(f\"No overlapping data or insufficient data for portfolio {idx+1}. Skipping.\")\n",
        "            continue\n",
        "        portfolio_returns = returns_selected.mul(weights, axis=1).sum(axis=1)\n",
        "        cumulative_returns = (1 + portfolio_returns).cumprod()\n",
        "        label = '+'.join(selected_etfs)\n",
        "        plt.plot(cumulative_returns.index, cumulative_returns.values, label=label)\n",
        "    plt.title('Historical Performance of Suggested Portfolios')\n",
        "    plt.xlabel('Date')\n",
        "    plt.ylabel('Cumulative Return')\n",
        "    plt.legend()\n",
        "    plt.grid(True)\n",
        "    plt.show()\n",
        "\n",
        "\n"
      ]
    },
    {
      "cell_type": "code",
      "source": [
        "import yfinance as yf\n",
        "import pandas as pd\n",
        "\n",
        "def download_etf_data(etf_list, start_date, end_date):\n",
        "    \"\"\"\n",
        "    Downloads adjusted closing price data for a list of ETFs.\n",
        "    Handles cases where yf.download returns a DataFrame or a Series.\n",
        "    \"\"\"\n",
        "    data = pd.DataFrame()\n",
        "    for etf in etf_list:\n",
        "        try:\n",
        "            print(f\"Downloading data for {etf}...\")\n",
        "            etf_data = yf.download(etf, start=start_date, end=end_date)\n",
        "\n",
        "            # Check if 'Adj Close' exists and get it, otherwise get the first column\n",
        "            if 'Adj Close' in etf_data.columns:\n",
        "                etf_data = etf_data['Adj Close']\n",
        "            else:\n",
        "                etf_data = etf_data.iloc[:, 0] # Get the first column\n",
        "\n",
        "            # Rename the Series or DataFrame column\n",
        "            if isinstance(etf_data, pd.Series):\n",
        "                etf_data = etf_data.rename(etf)\n",
        "            elif isinstance(etf_data, pd.DataFrame):\n",
        "                etf_data = etf_data.rename(columns={etf_data.columns[0]: etf})\n",
        "            else:\n",
        "                print(f\"Unexpected data type for {etf}: {type(etf_data)}. Skipping.\")\n",
        "                continue\n",
        "\n",
        "            data = pd.concat([data, etf_data], axis=1)\n",
        "            print(f\"Successfully downloaded data for {etf}\")\n",
        "\n",
        "        except Exception as e:\n",
        "            print(f\"Failed to download data for {etf}: {e}\")\n",
        "            if \"No data found\" in str(e):\n",
        "                print(f\"Trying with a suffix for {etf}...\")\n",
        "                try:\n",
        "                    for suffix in ['.L', '.TO', '.DE']:\n",
        "                        etf_with_suffix = etf + suffix\n",
        "                        etf_data = yf.download(etf_with_suffix, start=start_date, end=end_date)\n",
        "                        # (Repeat same renaming and type checking as above)\n",
        "\n",
        "                        if 'Adj Close' in etf_data.columns:\n",
        "                            etf_data = etf_data['Adj Close']\n",
        "                        else:\n",
        "                            etf_data = etf_data.iloc[:, 0]\n",
        "\n",
        "                        if isinstance(etf_data, pd.Series):\n",
        "                            etf_data = etf_data.rename(etf)\n",
        "                        elif isinstance(etf_data, pd.DataFrame):\n",
        "                            etf_data = etf_data.rename(columns={etf_data.columns[0]: etf})\n",
        "                        else:\n",
        "                            print(f\"Unexpected data type for {etf}: {type(etf_data)}. Skipping.\")\n",
        "                            continue\n",
        "\n",
        "                        data = pd.concat([data, etf_data], axis=1)\n",
        "                        print(f\"Successfully downloaded data for {etf} using suffix {suffix}\")\n",
        "                        break\n",
        "                except Exception as e2:\n",
        "                    print(f\"Failed to download data for {etf} with suffixes: {e2}\")\n",
        "            else:\n",
        "                raise e\n",
        "    data = data.loc[:, ~data.columns.duplicated()]\n",
        "    return data"
      ],
      "metadata": {
        "id": "Q5XPIkLDKmfK"
      },
      "id": "Q5XPIkLDKmfK",
      "execution_count": 44,
      "outputs": []
    },
    {
      "cell_type": "code",
      "source": [
        "print(type(str))\n"
      ],
      "metadata": {
        "colab": {
          "base_uri": "https://localhost:8080/"
        },
        "id": "kZR-62k0NRbw",
        "outputId": "7d651e25-4057-4f9c-d8b7-8c1f5267f93a"
      },
      "id": "kZR-62k0NRbw",
      "execution_count": 45,
      "outputs": [
        {
          "output_type": "stream",
          "name": "stdout",
          "text": [
            "<class 'type'>\n"
          ]
        }
      ]
    },
    {
      "cell_type": "code",
      "execution_count": 46,
      "id": "13a00c76-f5f2-460c-8827-7f24a2c6b345",
      "metadata": {
        "id": "13a00c76-f5f2-460c-8827-7f24a2c6b345",
        "outputId": "1484f4a4-2399-4032-d15d-0abd76a1735d",
        "colab": {
          "base_uri": "https://localhost:8080/"
        }
      },
      "outputs": [
        {
          "output_type": "stream",
          "name": "stderr",
          "text": [
            "\r[*********************100%***********************]  1 of 1 completed"
          ]
        },
        {
          "output_type": "stream",
          "name": "stdout",
          "text": [
            "Downloading data for IYR...\n",
            "Successfully downloaded data for IYR\n",
            "Downloading data for QQQ...\n"
          ]
        },
        {
          "output_type": "stream",
          "name": "stderr",
          "text": [
            "\n",
            "[*********************100%***********************]  1 of 1 completed\n",
            "[*********************100%***********************]  1 of 1 completed\n"
          ]
        },
        {
          "output_type": "stream",
          "name": "stdout",
          "text": [
            "Successfully downloaded data for QQQ\n",
            "Downloading data for SMH...\n",
            "Successfully downloaded data for SMH\n",
            "Downloading data for EWI...\n"
          ]
        },
        {
          "output_type": "stream",
          "name": "stderr",
          "text": [
            "[*********************100%***********************]  1 of 1 completed\n",
            "[*********************100%***********************]  1 of 1 completed\n"
          ]
        },
        {
          "output_type": "stream",
          "name": "stdout",
          "text": [
            "Successfully downloaded data for EWI\n",
            "Downloading data for IWB...\n",
            "Successfully downloaded data for IWB\n",
            "Downloading data for AGG...\n"
          ]
        },
        {
          "output_type": "stream",
          "name": "stderr",
          "text": [
            "[*********************100%***********************]  1 of 1 completed\n",
            "[*********************100%***********************]  1 of 1 completed\n"
          ]
        },
        {
          "output_type": "stream",
          "name": "stdout",
          "text": [
            "Successfully downloaded data for AGG\n",
            "Downloading data for ICSU.L...\n",
            "Successfully downloaded data for ICSU.L\n",
            "Downloading data for KXI...\n"
          ]
        },
        {
          "output_type": "stream",
          "name": "stderr",
          "text": [
            "[*********************100%***********************]  1 of 1 completed\n",
            "[*********************100%***********************]  1 of 1 completed"
          ]
        },
        {
          "output_type": "stream",
          "name": "stdout",
          "text": [
            "Successfully downloaded data for KXI\n",
            "Downloading data for IUSG...\n",
            "Successfully downloaded data for IUSG\n",
            "Downloading data for EWP...\n"
          ]
        },
        {
          "output_type": "stream",
          "name": "stderr",
          "text": [
            "\n",
            "[*********************100%***********************]  1 of 1 completed\n",
            "[*********************100%***********************]  1 of 1 completed\n"
          ]
        },
        {
          "output_type": "stream",
          "name": "stdout",
          "text": [
            "Successfully downloaded data for EWP\n",
            "Downloading data for EFA...\n",
            "Successfully downloaded data for EFA\n",
            "Downloading data for XSW...\n"
          ]
        },
        {
          "output_type": "stream",
          "name": "stderr",
          "text": [
            "[*********************100%***********************]  1 of 1 completed\n",
            "[*********************100%***********************]  1 of 1 completed\n"
          ]
        },
        {
          "output_type": "stream",
          "name": "stdout",
          "text": [
            "Successfully downloaded data for XSW\n",
            "Downloading data for GREK...\n",
            "Successfully downloaded data for GREK\n",
            "Downloading data for IJR...\n"
          ]
        },
        {
          "output_type": "stream",
          "name": "stderr",
          "text": [
            "[*********************100%***********************]  1 of 1 completed\n",
            "[*********************100%***********************]  1 of 1 completed\n"
          ]
        },
        {
          "output_type": "stream",
          "name": "stdout",
          "text": [
            "Successfully downloaded data for IJR\n",
            "Downloading data for CSMIB.MI...\n",
            "Successfully downloaded data for CSMIB.MI\n",
            "Downloading data for XLF...\n"
          ]
        },
        {
          "output_type": "stream",
          "name": "stderr",
          "text": [
            "[*********************100%***********************]  1 of 1 completed\n",
            "[*********************100%***********************]  1 of 1 completed\n"
          ]
        },
        {
          "output_type": "stream",
          "name": "stdout",
          "text": [
            "Successfully downloaded data for XLF\n",
            "Downloading data for EWY...\n",
            "Successfully downloaded data for EWY\n",
            "Downloading data for HERG.L...\n"
          ]
        },
        {
          "output_type": "stream",
          "name": "stderr",
          "text": [
            "[*********************100%***********************]  1 of 1 completed\n",
            "[*********************100%***********************]  1 of 1 completed\n"
          ]
        },
        {
          "output_type": "stream",
          "name": "stdout",
          "text": [
            "Successfully downloaded data for HERG.L\n",
            "Downloading data for USO...\n",
            "Successfully downloaded data for USO\n",
            "Downloading data for XAR...\n"
          ]
        },
        {
          "output_type": "stream",
          "name": "stderr",
          "text": [
            "[*********************100%***********************]  1 of 1 completed\n",
            "[*********************100%***********************]  1 of 1 completed"
          ]
        },
        {
          "output_type": "stream",
          "name": "stdout",
          "text": [
            "Successfully downloaded data for XAR\n",
            "Downloading data for EWG...\n",
            "Successfully downloaded data for EWG\n",
            "Downloading data for BRND.L...\n"
          ]
        },
        {
          "output_type": "stream",
          "name": "stderr",
          "text": [
            "\n",
            "[*********************100%***********************]  1 of 1 completed\n",
            "[*********************100%***********************]  1 of 1 completed"
          ]
        },
        {
          "output_type": "stream",
          "name": "stdout",
          "text": [
            "Successfully downloaded data for BRND.L\n",
            "Downloading data for ONEQ...\n"
          ]
        },
        {
          "output_type": "stream",
          "name": "stderr",
          "text": [
            "\n",
            "\r[*********************100%***********************]  1 of 1 completed\n"
          ]
        },
        {
          "output_type": "stream",
          "name": "stdout",
          "text": [
            "Successfully downloaded data for ONEQ\n",
            "Downloading data for VHYL.L...\n",
            "Successfully downloaded data for VHYL.L\n",
            "Downloading data for SCHD...\n"
          ]
        },
        {
          "output_type": "stream",
          "name": "stderr",
          "text": [
            "\r[*********************100%***********************]  1 of 1 completed\n"
          ]
        },
        {
          "output_type": "stream",
          "name": "stdout",
          "text": [
            "Successfully downloaded data for SCHD\n",
            "Downloading data for GXC...\n"
          ]
        },
        {
          "output_type": "stream",
          "name": "stderr",
          "text": [
            "[*********************100%***********************]  1 of 1 completed\n",
            "[*********************100%***********************]  1 of 1 completed\n"
          ]
        },
        {
          "output_type": "stream",
          "name": "stdout",
          "text": [
            "Successfully downloaded data for GXC\n",
            "Downloading data for EWQ...\n",
            "Successfully downloaded data for EWQ"
          ]
        },
        {
          "output_type": "stream",
          "name": "stderr",
          "text": [
            "\r[*********************100%***********************]  1 of 1 completed\n"
          ]
        },
        {
          "output_type": "stream",
          "name": "stdout",
          "text": [
            "\n",
            "Downloading data for ITA...\n",
            "Successfully downloaded data for ITA\n",
            "Downloading data for XLP...\n"
          ]
        },
        {
          "output_type": "stream",
          "name": "stderr",
          "text": [
            "\r[*********************100%***********************]  1 of 1 completed\n"
          ]
        },
        {
          "output_type": "stream",
          "name": "stdout",
          "text": [
            "Successfully downloaded data for XLP\n",
            "Downloading data for EWC...\n"
          ]
        },
        {
          "output_type": "stream",
          "name": "stderr",
          "text": [
            "\r[*********************100%***********************]  1 of 1 completed\n"
          ]
        },
        {
          "output_type": "stream",
          "name": "stdout",
          "text": [
            "Successfully downloaded data for EWC\n",
            "Downloading data for QTEC...\n"
          ]
        },
        {
          "output_type": "stream",
          "name": "stderr",
          "text": [
            "[*********************100%***********************]  1 of 1 completed\n",
            "[*********************100%***********************]  1 of 1 completed\n"
          ]
        },
        {
          "output_type": "stream",
          "name": "stdout",
          "text": [
            "Successfully downloaded data for QTEC\n",
            "Downloading data for IUFS.L...\n",
            "Successfully downloaded data for IUFS.L\n",
            "Downloading data for TUR...\n"
          ]
        },
        {
          "output_type": "stream",
          "name": "stderr",
          "text": [
            "[*********************100%***********************]  1 of 1 completed\n",
            "[*********************100%***********************]  1 of 1 completed\n"
          ]
        },
        {
          "output_type": "stream",
          "name": "stdout",
          "text": [
            "Successfully downloaded data for TUR\n",
            "Downloading data for ^N225...\n"
          ]
        },
        {
          "output_type": "stream",
          "name": "stderr",
          "text": [
            "\r[*********************100%***********************]  1 of 1 completed\n"
          ]
        },
        {
          "output_type": "stream",
          "name": "stdout",
          "text": [
            "Successfully downloaded data for ^N225\n",
            "Downloading data for LTAM.MI...\n",
            "Successfully downloaded data for LTAM.MI\n",
            "Downloading data for VUKG.L...\n"
          ]
        },
        {
          "output_type": "stream",
          "name": "stderr",
          "text": [
            "[*********************100%***********************]  1 of 1 completed\n",
            "[*********************100%***********************]  1 of 1 completed\n"
          ]
        },
        {
          "output_type": "stream",
          "name": "stdout",
          "text": [
            "Successfully downloaded data for VUKG.L\n",
            "Downloading data for SPY...\n",
            "Successfully downloaded data for SPY\n",
            "Downloading data for EWN...\n"
          ]
        },
        {
          "output_type": "stream",
          "name": "stderr",
          "text": [
            "\r[*********************100%***********************]  1 of 1 completed\n"
          ]
        },
        {
          "output_type": "stream",
          "name": "stdout",
          "text": [
            "Successfully downloaded data for EWN\n",
            "Downloading data for XHB...\n"
          ]
        },
        {
          "output_type": "stream",
          "name": "stderr",
          "text": [
            "[*********************100%***********************]  1 of 1 completed\n",
            "[*********************100%***********************]  1 of 1 completed\n"
          ]
        },
        {
          "output_type": "stream",
          "name": "stdout",
          "text": [
            "Successfully downloaded data for XHB\n",
            "Downloading data for FXI...\n"
          ]
        },
        {
          "output_type": "stream",
          "name": "stderr",
          "text": [
            "\r[*********************100%***********************]  1 of 1 completed"
          ]
        },
        {
          "output_type": "stream",
          "name": "stdout",
          "text": [
            "Successfully downloaded data for FXI\n",
            "Downloading data for RYH...\n"
          ]
        },
        {
          "output_type": "stream",
          "name": "stderr",
          "text": [
            "\n",
            "\r[*********************100%***********************]  1 of 1 completed\n"
          ]
        },
        {
          "output_type": "stream",
          "name": "stdout",
          "text": [
            "Successfully downloaded data for RYH\n",
            "Downloading data for SCHA...\n",
            "Successfully downloaded data for SCHA\n",
            "Downloading data for KWEB...\n"
          ]
        },
        {
          "output_type": "stream",
          "name": "stderr",
          "text": [
            "[*********************100%***********************]  1 of 1 completed\n",
            "[*********************100%***********************]  1 of 1 completed\n"
          ]
        },
        {
          "output_type": "stream",
          "name": "stdout",
          "text": [
            "Successfully downloaded data for KWEB\n",
            "Downloading data for EZA...\n",
            "Successfully downloaded data for EZA\n",
            "Downloading data for ^RUT...\n"
          ]
        },
        {
          "output_type": "stream",
          "name": "stderr",
          "text": [
            "[*********************100%***********************]  1 of 1 completed\n",
            "[*********************100%***********************]  1 of 1 completed\n"
          ]
        },
        {
          "output_type": "stream",
          "name": "stdout",
          "text": [
            "Successfully downloaded data for ^RUT\n",
            "Downloading data for QDVE.DE...\n",
            "Successfully downloaded data for QDVE.DE\n",
            "Downloading data for EWA...\n"
          ]
        },
        {
          "output_type": "stream",
          "name": "stderr",
          "text": [
            "[*********************100%***********************]  1 of 1 completed\n",
            "[*********************100%***********************]  1 of 1 completed"
          ]
        },
        {
          "output_type": "stream",
          "name": "stdout",
          "text": [
            "Successfully downloaded data for EWA\n",
            "Downloading data for XLY...\n"
          ]
        },
        {
          "output_type": "stream",
          "name": "stderr",
          "text": [
            "\n",
            "[*********************100%***********************]  1 of 1 completed"
          ]
        },
        {
          "output_type": "stream",
          "name": "stdout",
          "text": [
            "Successfully downloaded data for XLY\n",
            "Downloading data for XSD...\n"
          ]
        },
        {
          "output_type": "stream",
          "name": "stderr",
          "text": [
            "\n",
            "\r[*********************100%***********************]  1 of 1 completed\n"
          ]
        },
        {
          "output_type": "stream",
          "name": "stdout",
          "text": [
            "Successfully downloaded data for XSD\n",
            "Downloading data for CEBS.DE...\n",
            "Successfully downloaded data for CEBS.DE\n",
            "Downloading data for XLE...\n"
          ]
        },
        {
          "output_type": "stream",
          "name": "stderr",
          "text": [
            "\r[*********************100%***********************]  1 of 1 completed\n"
          ]
        },
        {
          "output_type": "stream",
          "name": "stdout",
          "text": [
            "Successfully downloaded data for XLE\n",
            "Downloading data for GDXJ...\n"
          ]
        },
        {
          "output_type": "stream",
          "name": "stderr",
          "text": [
            "[*********************100%***********************]  1 of 1 completed\n",
            "[*********************100%***********************]  1 of 1 completed\n"
          ]
        },
        {
          "output_type": "stream",
          "name": "stdout",
          "text": [
            "Successfully downloaded data for GDXJ\n",
            "Downloading data for EGPT...\n",
            "Successfully downloaded data for EGPT\n",
            "Downloading data for FSTA...\n"
          ]
        },
        {
          "output_type": "stream",
          "name": "stderr",
          "text": [
            "[*********************100%***********************]  1 of 1 completed\n",
            "[*********************100%***********************]  1 of 1 completed\n"
          ]
        },
        {
          "output_type": "stream",
          "name": "stdout",
          "text": [
            "Successfully downloaded data for FSTA\n",
            "Downloading data for SPY4.DE...\n",
            "Successfully downloaded data for SPY4.DE\n",
            "Downloading data for VWO...\n"
          ]
        },
        {
          "output_type": "stream",
          "name": "stderr",
          "text": [
            "\r[*********************100%***********************]  1 of 1 completed\n"
          ]
        },
        {
          "output_type": "stream",
          "name": "stdout",
          "text": [
            "Successfully downloaded data for VWO\n",
            "Downloading data for FUTY...\n"
          ]
        },
        {
          "output_type": "stream",
          "name": "stderr",
          "text": [
            "\r[*********************100%***********************]  1 of 1 completed\n"
          ]
        },
        {
          "output_type": "stream",
          "name": "stdout",
          "text": [
            "Successfully downloaded data for FUTY\n",
            "Downloading data for VGOV.L...\n"
          ]
        },
        {
          "output_type": "stream",
          "name": "stderr",
          "text": [
            "\r[*********************100%***********************]  1 of 1 completed\n"
          ]
        },
        {
          "output_type": "stream",
          "name": "stdout",
          "text": [
            "Successfully downloaded data for VGOV.L\n",
            "Downloading data for SCHB...\n"
          ]
        },
        {
          "output_type": "stream",
          "name": "stderr",
          "text": [
            "[*********************100%***********************]  1 of 1 completed\n",
            "[*********************100%***********************]  1 of 1 completed\n"
          ]
        },
        {
          "output_type": "stream",
          "name": "stdout",
          "text": [
            "Successfully downloaded data for SCHB\n",
            "Downloading data for FEUZ.L...\n",
            "Successfully downloaded data for FEUZ.L\n",
            "Downloading data for VGK...\n"
          ]
        },
        {
          "output_type": "stream",
          "name": "stderr",
          "text": [
            "[*********************100%***********************]  1 of 1 completed\n",
            "[*********************100%***********************]  1 of 1 completed\n"
          ]
        },
        {
          "output_type": "stream",
          "name": "stdout",
          "text": [
            "Successfully downloaded data for VGK\n",
            "Downloading data for NUCG.L...\n",
            "Successfully downloaded data for NUCG.L\n",
            "Downloading data for ^STOXX50E...\n"
          ]
        },
        {
          "output_type": "stream",
          "name": "stderr",
          "text": [
            "[*********************100%***********************]  1 of 1 completed\n",
            "[*********************100%***********************]  1 of 1 completed\n"
          ]
        },
        {
          "output_type": "stream",
          "name": "stdout",
          "text": [
            "Successfully downloaded data for ^STOXX50E\n",
            "Downloading data for EEM...\n",
            "Successfully downloaded data for EEM\n",
            "Downloading data for FMAT...\n"
          ]
        },
        {
          "output_type": "stream",
          "name": "stderr",
          "text": [
            "[*********************100%***********************]  1 of 1 completed\n",
            "[*********************100%***********************]  1 of 1 completed"
          ]
        },
        {
          "output_type": "stream",
          "name": "stdout",
          "text": [
            "Successfully downloaded data for FMAT\n",
            "Downloading data for IXG...\n"
          ]
        },
        {
          "output_type": "stream",
          "name": "stderr",
          "text": [
            "\n",
            "\r[*********************100%***********************]  1 of 1 completed\n"
          ]
        },
        {
          "output_type": "stream",
          "name": "stdout",
          "text": [
            "Successfully downloaded data for IXG\n",
            "Downloading data for SCHE...\n",
            "Successfully downloaded data for SCHE\n",
            "Downloading data for IHI...\n"
          ]
        },
        {
          "output_type": "stream",
          "name": "stderr",
          "text": [
            "[*********************100%***********************]  1 of 1 completed\n",
            "[*********************100%***********************]  1 of 1 completed\n"
          ]
        },
        {
          "output_type": "stream",
          "name": "stdout",
          "text": [
            "Successfully downloaded data for IHI\n",
            "Downloading data for IEMG...\n",
            "Successfully downloaded data for IEMG\n",
            "Downloading data for HEALL.XC...\n"
          ]
        },
        {
          "output_type": "stream",
          "name": "stderr",
          "text": [
            "[*********************100%***********************]  1 of 1 completed\n",
            "[*********************100%***********************]  1 of 1 completed\n"
          ]
        },
        {
          "output_type": "stream",
          "name": "stdout",
          "text": [
            "Successfully downloaded data for HEALL.XC\n",
            "Downloading data for WLDS.L...\n",
            "Successfully downloaded data for WLDS.L\n",
            "Downloading data for XLU...\n"
          ]
        },
        {
          "output_type": "stream",
          "name": "stderr",
          "text": [
            "[*********************100%***********************]  1 of 1 completed\n",
            "[*********************100%***********************]  1 of 1 completed\n"
          ]
        },
        {
          "output_type": "stream",
          "name": "stdout",
          "text": [
            "Successfully downloaded data for XLU\n",
            "Downloading data for EWD...\n",
            "Successfully downloaded data for EWD\n",
            "Downloading data for IWO...\n"
          ]
        },
        {
          "output_type": "stream",
          "name": "stderr",
          "text": [
            "[*********************100%***********************]  1 of 1 completed\n",
            "[*********************100%***********************]  1 of 1 completed\n"
          ]
        },
        {
          "output_type": "stream",
          "name": "stdout",
          "text": [
            "Successfully downloaded data for IWO\n",
            "Downloading data for IUESX...\n",
            "Successfully downloaded data for IUESX\n",
            "Downloading data for VNM...\n"
          ]
        },
        {
          "output_type": "stream",
          "name": "stderr",
          "text": [
            "\r[*********************100%***********************]  1 of 1 completed\n"
          ]
        },
        {
          "output_type": "stream",
          "name": "stdout",
          "text": [
            "Successfully downloaded data for VNM\n",
            "Downloading data for XLI...\n"
          ]
        },
        {
          "output_type": "stream",
          "name": "stderr",
          "text": [
            "[*********************100%***********************]  1 of 1 completed\n",
            "[*********************100%***********************]  1 of 1 completed"
          ]
        },
        {
          "output_type": "stream",
          "name": "stdout",
          "text": [
            "Successfully downloaded data for XLI\n",
            "Downloading data for IHF...\n"
          ]
        },
        {
          "output_type": "stream",
          "name": "stderr",
          "text": [
            "\n",
            "\r[*********************100%***********************]  1 of 1 completed\n"
          ]
        },
        {
          "output_type": "stream",
          "name": "stdout",
          "text": [
            "Successfully downloaded data for IHF\n",
            "Downloading data for INDA...\n",
            "Successfully downloaded data for INDA\n",
            "Downloading data for SPLG...\n"
          ]
        },
        {
          "output_type": "stream",
          "name": "stderr",
          "text": [
            "[*********************100%***********************]  1 of 1 completed\n",
            "[*********************100%***********************]  1 of 1 completed\n"
          ]
        },
        {
          "output_type": "stream",
          "name": "stdout",
          "text": [
            "Successfully downloaded data for SPLG\n",
            "Downloading data for ^IBEX...\n",
            "Successfully downloaded data for ^IBEX\n",
            "Downloading data for IWN...\n"
          ]
        },
        {
          "output_type": "stream",
          "name": "stderr",
          "text": [
            "[*********************100%***********************]  1 of 1 completed\n",
            "[*********************100%***********************]  1 of 1 completed\n"
          ]
        },
        {
          "output_type": "stream",
          "name": "stdout",
          "text": [
            "Successfully downloaded data for IWN\n",
            "Downloading data for VWRP.L...\n",
            "Successfully downloaded data for VWRP.L\n",
            "Downloading data for EPHE...\n"
          ]
        },
        {
          "output_type": "stream",
          "name": "stderr",
          "text": [
            "[*********************100%***********************]  1 of 1 completed\n",
            "[*********************100%***********************]  1 of 1 completed"
          ]
        },
        {
          "output_type": "stream",
          "name": "stdout",
          "text": [
            "Successfully downloaded data for EPHE\n",
            "Downloading data for RCD...\n"
          ]
        },
        {
          "output_type": "stream",
          "name": "stderr",
          "text": [
            "\n",
            "\r[*********************100%***********************]  1 of 1 completed\n"
          ]
        },
        {
          "output_type": "stream",
          "name": "stdout",
          "text": [
            "Successfully downloaded data for RCD\n",
            "Downloading data for DFNS.L...\n",
            "Successfully downloaded data for DFNS.L\n",
            "Downloading data for RXI...\n"
          ]
        },
        {
          "output_type": "stream",
          "name": "stderr",
          "text": [
            "[*********************100%***********************]  1 of 1 completed\n",
            "[*********************100%***********************]  1 of 1 completed\n"
          ]
        },
        {
          "output_type": "stream",
          "name": "stdout",
          "text": [
            "Successfully downloaded data for RXI\n",
            "Downloading data for HEAW.L...\n",
            "Successfully downloaded data for HEAW.L\n",
            "Downloading data for SCHF...\n"
          ]
        },
        {
          "output_type": "stream",
          "name": "stderr",
          "text": [
            "[*********************100%***********************]  1 of 1 completed\n",
            "[*********************100%***********************]  1 of 1 completed\n"
          ]
        },
        {
          "output_type": "stream",
          "name": "stdout",
          "text": [
            "Successfully downloaded data for SCHF\n",
            "Downloading data for EWU...\n",
            "Successfully downloaded data for EWU\n",
            "Downloading data for FSEM.L...\n"
          ]
        },
        {
          "output_type": "stream",
          "name": "stderr",
          "text": [
            "[*********************100%***********************]  1 of 1 completed\n",
            "[*********************100%***********************]  1 of 1 completed\n"
          ]
        },
        {
          "output_type": "stream",
          "name": "stdout",
          "text": [
            "Successfully downloaded data for FSEM.L\n",
            "Downloading data for EMLC...\n",
            "Successfully downloaded data for EMLC\n",
            "Downloading data for IDX...\n"
          ]
        },
        {
          "output_type": "stream",
          "name": "stderr",
          "text": [
            "[*********************100%***********************]  1 of 1 completed\n",
            "[*********************100%***********************]  1 of 1 completed\n"
          ]
        },
        {
          "output_type": "stream",
          "name": "stdout",
          "text": [
            "Successfully downloaded data for IDX\n",
            "Downloading data for SCHC...\n",
            "Successfully downloaded data for SCHC\n",
            "Downloading data for EWH...\n"
          ]
        },
        {
          "output_type": "stream",
          "name": "stderr",
          "text": [
            "[*********************100%***********************]  1 of 1 completed\n",
            "[*********************100%***********************]  1 of 1 completed\n"
          ]
        },
        {
          "output_type": "stream",
          "name": "stdout",
          "text": [
            "Successfully downloaded data for EWH\n",
            "Downloading data for XLV...\n"
          ]
        },
        {
          "output_type": "stream",
          "name": "stderr",
          "text": [
            "\r[*********************100%***********************]  1 of 1 completed\n"
          ]
        },
        {
          "output_type": "stream",
          "name": "stdout",
          "text": [
            "Successfully downloaded data for XLV\n",
            "Downloading data for EWW...\n",
            "Successfully downloaded data for EWW\n",
            "Downloading data for WIGG.L...\n"
          ]
        },
        {
          "output_type": "stream",
          "name": "stderr",
          "text": [
            "\r[*********************100%***********************]  1 of 1 completed\n"
          ]
        },
        {
          "output_type": "stream",
          "name": "stdout",
          "text": [
            "Successfully downloaded data for WIGG.L\n",
            "Downloading data for IWP...\n"
          ]
        },
        {
          "output_type": "stream",
          "name": "stderr",
          "text": [
            "[*********************100%***********************]  1 of 1 completed\n",
            "[*********************100%***********************]  1 of 1 completed\n"
          ]
        },
        {
          "output_type": "stream",
          "name": "stdout",
          "text": [
            "Successfully downloaded data for IWP\n",
            "Downloading data for RHS...\n"
          ]
        },
        {
          "output_type": "stream",
          "name": "stderr",
          "text": [
            "\r[*********************100%***********************]  1 of 1 completed\n"
          ]
        },
        {
          "output_type": "stream",
          "name": "stdout",
          "text": [
            "Successfully downloaded data for RHS\n",
            "Downloading data for EQQQ.DE...\n",
            "Successfully downloaded data for EQQQ.DE\n",
            "Downloading data for WCOS.AS...\n"
          ]
        },
        {
          "output_type": "stream",
          "name": "stderr",
          "text": [
            "[*********************100%***********************]  1 of 1 completed\n",
            "[*********************100%***********************]  1 of 1 completed"
          ]
        },
        {
          "output_type": "stream",
          "name": "stdout",
          "text": [
            "Successfully downloaded data for WCOS.AS\n",
            "Downloading data for IWF...\n"
          ]
        },
        {
          "output_type": "stream",
          "name": "stderr",
          "text": [
            "\n",
            "\r[*********************100%***********************]  1 of 1 completed\n"
          ]
        },
        {
          "output_type": "stream",
          "name": "stdout",
          "text": [
            "Successfully downloaded data for IWF\n",
            "Downloading data for IEV...\n",
            "Successfully downloaded data for IEV\n",
            "Downloading data for SCHX...\n"
          ]
        },
        {
          "output_type": "stream",
          "name": "stderr",
          "text": [
            "[*********************100%***********************]  1 of 1 completed\n",
            "[*********************100%***********************]  1 of 1 completed\n"
          ]
        },
        {
          "output_type": "stream",
          "name": "stdout",
          "text": [
            "Successfully downloaded data for SCHX\n",
            "Downloading data for XME...\n"
          ]
        },
        {
          "output_type": "stream",
          "name": "stderr",
          "text": [
            "\r[*********************100%***********************]  1 of 1 completed\n"
          ]
        },
        {
          "output_type": "stream",
          "name": "stdout",
          "text": [
            "Successfully downloaded data for XME\n",
            "Downloading data for GDX...\n",
            "Successfully downloaded data for GDX\n",
            "Downloading data for UNG...\n"
          ]
        },
        {
          "output_type": "stream",
          "name": "stderr",
          "text": [
            "[*********************100%***********************]  1 of 1 completed\n",
            "[*********************100%***********************]  1 of 1 completed\n"
          ]
        },
        {
          "output_type": "stream",
          "name": "stdout",
          "text": [
            "Successfully downloaded data for UNG\n",
            "Downloading data for EIS...\n",
            "Successfully downloaded data for EIS\n",
            "Downloading data for RSX...\n"
          ]
        },
        {
          "output_type": "stream",
          "name": "stderr",
          "text": [
            "[*********************100%***********************]  1 of 1 completed\n",
            "[*********************100%***********************]  1 of 1 completed"
          ]
        },
        {
          "output_type": "stream",
          "name": "stdout",
          "text": [
            "Successfully downloaded data for RSX\n",
            "Downloading data for SGLN.L...\n",
            "Successfully downloaded data for SGLN.L\n",
            "Downloading data for EWL...\n"
          ]
        },
        {
          "output_type": "stream",
          "name": "stderr",
          "text": [
            "\n",
            "[*********************100%***********************]  1 of 1 completed\n",
            "[*********************100%***********************]  1 of 1 completed\n"
          ]
        },
        {
          "output_type": "stream",
          "name": "stdout",
          "text": [
            "Successfully downloaded data for EWL\n",
            "Downloading data for IWD...\n",
            "Successfully downloaded data for IWD\n",
            "Downloading data for EWO...\n"
          ]
        },
        {
          "output_type": "stream",
          "name": "stderr",
          "text": [
            "[*********************100%***********************]  1 of 1 completed\n",
            "[*********************100%***********************]  1 of 1 completed\n"
          ]
        },
        {
          "output_type": "stream",
          "name": "stdout",
          "text": [
            "Successfully downloaded data for EWO\n",
            "Downloading data for IWS...\n",
            "Successfully downloaded data for IWS\n"
          ]
        },
        {
          "output_type": "stream",
          "name": "stderr",
          "text": [
            "\r[*********************100%***********************]  1 of 1 completed\n"
          ]
        },
        {
          "output_type": "stream",
          "name": "stdout",
          "text": [
            "Downloading data for IVV...\n",
            "Successfully downloaded data for IVV\n",
            "Downloading data for XLK...\n"
          ]
        },
        {
          "output_type": "stream",
          "name": "stderr",
          "text": [
            "[*********************100%***********************]  1 of 1 completed\n",
            "[*********************100%***********************]  1 of 1 completed\n"
          ]
        },
        {
          "output_type": "stream",
          "name": "stdout",
          "text": [
            "Successfully downloaded data for XLK\n",
            "Downloading data for IXJ...\n",
            "Successfully downloaded data for IXJ\n",
            "Downloading data for SCHG...\n"
          ]
        },
        {
          "output_type": "stream",
          "name": "stderr",
          "text": [
            "[*********************100%***********************]  1 of 1 completed\n",
            "[*********************100%***********************]  1 of 1 completed\n"
          ]
        },
        {
          "output_type": "stream",
          "name": "stdout",
          "text": [
            "Successfully downloaded data for SCHG\n",
            "Downloading data for SCHV...\n"
          ]
        },
        {
          "output_type": "stream",
          "name": "stderr",
          "text": [
            "\r[*********************100%***********************]  1 of 1 completed\n"
          ]
        },
        {
          "output_type": "stream",
          "name": "stdout",
          "text": [
            "Successfully downloaded data for SCHV\n",
            "Downloading data for XLB...\n",
            "Successfully downloaded data for XLB\n",
            "Downloading data for EWZ...\n"
          ]
        },
        {
          "output_type": "stream",
          "name": "stderr",
          "text": [
            "[*********************100%***********************]  1 of 1 completed\n",
            "[*********************100%***********************]  1 of 1 completed\n"
          ]
        },
        {
          "output_type": "stream",
          "name": "stdout",
          "text": [
            "Successfully downloaded data for EWZ\n",
            "Downloading data for IWR...\n",
            "Successfully downloaded data for IWR\n",
            "Downloading data for EWJ...\n"
          ]
        },
        {
          "output_type": "stream",
          "name": "stderr",
          "text": [
            "[*********************100%***********************]  1 of 1 completed\n",
            "[*********************100%***********************]  1 of 1 completed\n"
          ]
        },
        {
          "output_type": "stream",
          "name": "stdout",
          "text": [
            "Successfully downloaded data for EWJ\n",
            "Downloading data for PSJ...\n",
            "Successfully downloaded data for PSJ\n",
            "Downloading data for THD...\n"
          ]
        },
        {
          "output_type": "stream",
          "name": "stderr",
          "text": [
            "[*********************100%***********************]  1 of 1 completed\n",
            "[*********************100%***********************]  1 of 1 completed\n"
          ]
        },
        {
          "output_type": "stream",
          "name": "stdout",
          "text": [
            "Successfully downloaded data for THD\n",
            "Downloading data for EMB...\n",
            "Successfully downloaded data for EMB\n",
            "Downloading data for IJH...\n"
          ]
        },
        {
          "output_type": "stream",
          "name": "stderr",
          "text": [
            "[*********************100%***********************]  1 of 1 completed\n",
            "[*********************100%***********************]  1 of 1 completed\n"
          ]
        },
        {
          "output_type": "stream",
          "name": "stdout",
          "text": [
            "Successfully downloaded data for IJH\n",
            "Downloading data for ECH...\n"
          ]
        },
        {
          "output_type": "stream",
          "name": "stderr",
          "text": [
            "\r[*********************100%***********************]  1 of 1 completed\n"
          ]
        },
        {
          "output_type": "stream",
          "name": "stdout",
          "text": [
            "Successfully downloaded data for ECH\n",
            "Downloading data for EWT...\n",
            "Successfully downloaded data for EWT\n",
            "Downloading data for GSEM.L...\n"
          ]
        },
        {
          "output_type": "stream",
          "name": "stderr",
          "text": [
            "[*********************100%***********************]  1 of 1 completed\n",
            "[*********************100%***********************]  1 of 1 completed\n"
          ]
        },
        {
          "output_type": "stream",
          "name": "stdout",
          "text": [
            "Successfully downloaded data for GSEM.L\n",
            "Downloading data for IUSV...\n"
          ]
        },
        {
          "output_type": "stream",
          "name": "stderr",
          "text": [
            "\r[*********************100%***********************]  1 of 1 completed\n"
          ]
        },
        {
          "output_type": "stream",
          "name": "stdout",
          "text": [
            "Successfully downloaded data for IUSV\n",
            "Downloading data for STW.PA...\n",
            "Successfully downloaded data for STW.PA\n",
            "Downloading data for IWM...\n"
          ]
        },
        {
          "output_type": "stream",
          "name": "stderr",
          "text": [
            "[*********************100%***********************]  1 of 1 completed\n",
            "[*********************100%***********************]  1 of 1 completed\n"
          ]
        },
        {
          "output_type": "stream",
          "name": "stdout",
          "text": [
            "Successfully downloaded data for IWM\n",
            "Downloading data for XRT...\n",
            "Successfully downloaded data for XRT\n",
            "Downloading data for ARGT...\n"
          ]
        },
        {
          "output_type": "stream",
          "name": "stderr",
          "text": [
            "[*********************100%***********************]  1 of 1 completed\n",
            "[*********************100%***********************]  1 of 1 completed\n"
          ]
        },
        {
          "output_type": "stream",
          "name": "stdout",
          "text": [
            "Successfully downloaded data for ARGT\n",
            "Downloading data for VEA...\n",
            "Successfully downloaded data for VEA\n",
            "Downloading data for FIDU...\n"
          ]
        },
        {
          "output_type": "stream",
          "name": "stderr",
          "text": [
            "[*********************100%***********************]  1 of 1 completed\n",
            "[*********************100%***********************]  1 of 1 completed\n"
          ]
        },
        {
          "output_type": "stream",
          "name": "stdout",
          "text": [
            "Successfully downloaded data for FIDU\n",
            "Downloading data for PKW...\n",
            "Successfully downloaded data for PKW\n",
            "Downloading data for EPOL...\n"
          ]
        },
        {
          "output_type": "stream",
          "name": "stderr",
          "text": [
            "[*********************100%***********************]  1 of 1 completed\n",
            "[*********************100%***********************]  1 of 1 completed\n"
          ]
        },
        {
          "output_type": "stream",
          "name": "stdout",
          "text": [
            "Successfully downloaded data for EPOL\n",
            "Downloading data for XLRE...\n"
          ]
        },
        {
          "output_type": "stream",
          "name": "stderr",
          "text": [
            "\r[*********************100%***********************]  1 of 1 completed\n"
          ]
        },
        {
          "output_type": "stream",
          "name": "stdout",
          "text": [
            "Successfully downloaded data for XLRE\n",
            "Downloading data for INRG.MI...\n",
            "Successfully downloaded data for INRG.MI\n",
            "Downloading data for CUKX.L...\n"
          ]
        },
        {
          "output_type": "stream",
          "name": "stderr",
          "text": [
            "[*********************100%***********************]  1 of 1 completed\n",
            "[*********************100%***********************]  1 of 1 completed\n"
          ]
        },
        {
          "output_type": "stream",
          "name": "stdout",
          "text": [
            "Successfully downloaded data for CUKX.L\n",
            "Downloading data for IGUS.L...\n",
            "Successfully downloaded data for IGUS.L\n",
            "Downloading data for CPJ1.L...\n"
          ]
        },
        {
          "output_type": "stream",
          "name": "stderr",
          "text": [
            "[*********************100%***********************]  1 of 1 completed\n",
            "[*********************100%***********************]  1 of 1 completed\n"
          ]
        },
        {
          "output_type": "stream",
          "name": "stdout",
          "text": [
            "Successfully downloaded data for CPJ1.L\n",
            "Downloading data for EHYG.L...\n",
            "Successfully downloaded data for EHYG.L\n",
            "Downloading data for EEDG.L...\n"
          ]
        },
        {
          "output_type": "stream",
          "name": "stderr",
          "text": [
            "[*********************100%***********************]  1 of 1 completed\n",
            "[*********************100%***********************]  1 of 1 completed\n"
          ]
        },
        {
          "output_type": "stream",
          "name": "stdout",
          "text": [
            "Successfully downloaded data for EEDG.L\n",
            "Downloading data for EMHG.L...\n"
          ]
        },
        {
          "output_type": "stream",
          "name": "stderr",
          "text": [
            "\r[*********************100%***********************]  1 of 1 completed\n"
          ]
        },
        {
          "output_type": "stream",
          "name": "stdout",
          "text": [
            "Successfully downloaded data for EMHG.L\n",
            "Downloading data for ROLG.L...\n",
            "Successfully downloaded data for ROLG.L\n",
            "Downloading data for FXC...\n"
          ]
        },
        {
          "output_type": "stream",
          "name": "stderr",
          "text": [
            "[*********************100%***********************]  1 of 1 completed\n",
            "[*********************100%***********************]  1 of 1 completed\n"
          ]
        },
        {
          "output_type": "stream",
          "name": "stdout",
          "text": [
            "Successfully downloaded data for FXC\n",
            "Downloading data for IGLT.L...\n",
            "Successfully downloaded data for IGLT.L\n",
            "Downloading data for UESD.L...\n"
          ]
        },
        {
          "output_type": "stream",
          "name": "stderr",
          "text": [
            "[*********************100%***********************]  1 of 1 completed\n",
            "[*********************100%***********************]  1 of 1 completed\n"
          ]
        },
        {
          "output_type": "stream",
          "name": "stdout",
          "text": [
            "Successfully downloaded data for UESD.L\n",
            "Downloading data for SSLN.L...\n",
            "Successfully downloaded data for SSLN.L\n",
            "Downloading data for EMGA.L...\n"
          ]
        },
        {
          "output_type": "stream",
          "name": "stderr",
          "text": [
            "[*********************100%***********************]  1 of 1 completed\n",
            "[*********************100%***********************]  1 of 1 completed\n"
          ]
        },
        {
          "output_type": "stream",
          "name": "stdout",
          "text": [
            "Successfully downloaded data for EMGA.L\n",
            "Downloading data for ECAR.L...\n",
            "Successfully downloaded data for ECAR.L\n",
            "Downloading data for TLT5.L...\n"
          ]
        },
        {
          "output_type": "stream",
          "name": "stderr",
          "text": [
            "[*********************100%***********************]  1 of 1 completed\n",
            "[*********************100%***********************]  1 of 1 completed\n"
          ]
        },
        {
          "output_type": "stream",
          "name": "stdout",
          "text": [
            "Successfully downloaded data for TLT5.L\n",
            "Downloading data for WTRE...\n",
            "Successfully downloaded data for WTRE\n",
            "Downloading data for STHS.L...\n"
          ]
        },
        {
          "output_type": "stream",
          "name": "stderr",
          "text": [
            "[*********************100%***********************]  1 of 1 completed\n",
            "[*********************100%***********************]  1 of 1 completed\n"
          ]
        },
        {
          "output_type": "stream",
          "name": "stdout",
          "text": [
            "Successfully downloaded data for STHS.L\n",
            "Downloading data for GGRG.L...\n",
            "Successfully downloaded data for GGRG.L\n",
            "Downloading data for NATP.L...\n"
          ]
        },
        {
          "output_type": "stream",
          "name": "stderr",
          "text": [
            "[*********************100%***********************]  1 of 1 completed\n",
            "[*********************100%***********************]  1 of 1 completed\n"
          ]
        },
        {
          "output_type": "stream",
          "name": "stdout",
          "text": [
            "Successfully downloaded data for NATP.L\n",
            "Downloading data for TLTE...\n",
            "Successfully downloaded data for TLTE\n",
            "Downloading data for XSOE...\n"
          ]
        },
        {
          "output_type": "stream",
          "name": "stderr",
          "text": [
            "[*********************100%***********************]  1 of 1 completed\n",
            "[*********************100%***********************]  1 of 1 completed\n"
          ]
        },
        {
          "output_type": "stream",
          "name": "stdout",
          "text": [
            "Successfully downloaded data for XSOE\n",
            "Downloading data for GOAI.SW...\n",
            "Successfully downloaded data for GOAI.SW\n",
            "Downloading data for GSLC...\n"
          ]
        },
        {
          "output_type": "stream",
          "name": "stderr",
          "text": [
            "[*********************100%***********************]  1 of 1 completed\n",
            "[*********************100%***********************]  1 of 1 completed\n"
          ]
        },
        {
          "output_type": "stream",
          "name": "stdout",
          "text": [
            "Successfully downloaded data for GSLC\n",
            "Downloading data for TKN.TO...\n",
            "Successfully downloaded data for TKN.TO\n",
            "Downloading data for FSMG.L...\n"
          ]
        },
        {
          "output_type": "stream",
          "name": "stderr",
          "text": [
            "[*********************100%***********************]  1 of 1 completed\n",
            "[*********************100%***********************]  1 of 1 completed\n"
          ]
        },
        {
          "output_type": "stream",
          "name": "stdout",
          "text": [
            "Successfully downloaded data for FSMG.L\n",
            "Downloading data for CLMP.L...\n",
            "Successfully downloaded data for CLMP.L\n",
            "Downloading data for CMDY...\n"
          ]
        },
        {
          "output_type": "stream",
          "name": "stderr",
          "text": [
            "[*********************100%***********************]  1 of 1 completed\n",
            "[*********************100%***********************]  1 of 1 completed\n"
          ]
        },
        {
          "output_type": "stream",
          "name": "stdout",
          "text": [
            "Successfully downloaded data for CMDY\n",
            "Downloading data for KWEB...\n"
          ]
        },
        {
          "output_type": "stream",
          "name": "stderr",
          "text": [
            "\r[*********************100%***********************]  1 of 1 completed\n"
          ]
        },
        {
          "output_type": "stream",
          "name": "stdout",
          "text": [
            "Successfully downloaded data for KWEB\n",
            "Downloading data for KLWD.L...\n",
            "Successfully downloaded data for KLWD.L\n",
            "Downloading data for WBIO.L...\n"
          ]
        },
        {
          "output_type": "stream",
          "name": "stderr",
          "text": [
            "[*********************100%***********************]  1 of 1 completed\n",
            "[*********************100%***********************]  1 of 1 completed\n"
          ]
        },
        {
          "output_type": "stream",
          "name": "stdout",
          "text": [
            "Successfully downloaded data for WBIO.L\n",
            "Downloading data for TLT5.L...\n",
            "Successfully downloaded data for TLT5.L\n",
            "Downloading data for ARKG...\n"
          ]
        },
        {
          "output_type": "stream",
          "name": "stderr",
          "text": [
            "[*********************100%***********************]  1 of 1 completed\n",
            "[*********************100%***********************]  1 of 1 completed"
          ]
        },
        {
          "output_type": "stream",
          "name": "stdout",
          "text": [
            "Successfully downloaded data for ARKG\n",
            "Downloading data for ARKK...\n"
          ]
        },
        {
          "output_type": "stream",
          "name": "stderr",
          "text": [
            "\n",
            "[*********************100%***********************]  1 of 1 completed\n"
          ]
        },
        {
          "output_type": "stream",
          "name": "stdout",
          "text": [
            "Successfully downloaded data for ARKK\n",
            "Downloading data for ARKW...\n"
          ]
        },
        {
          "output_type": "stream",
          "name": "stderr",
          "text": [
            "\r[*********************100%***********************]  1 of 1 completed\n"
          ]
        },
        {
          "output_type": "stream",
          "name": "stdout",
          "text": [
            "Successfully downloaded data for ARKW\n",
            "Downloading data for REUSEM.XC...\n",
            "Successfully downloaded data for REUSEM.XC\n",
            "Downloading data for PSI20.LS...\n"
          ]
        },
        {
          "output_type": "stream",
          "name": "stderr",
          "text": [
            "[*********************100%***********************]  1 of 1 completed\n",
            "[*********************100%***********************]  1 of 1 completed\n"
          ]
        },
        {
          "output_type": "stream",
          "name": "stdout",
          "text": [
            "Successfully downloaded data for PSI20.LS\n",
            "Downloading data for EWQ...\n",
            "Successfully downloaded data for EWQ\n",
            "Downloading data for ^STI...\n"
          ]
        },
        {
          "output_type": "stream",
          "name": "stderr",
          "text": [
            "[*********************100%***********************]  1 of 1 completed\n",
            "[*********************100%***********************]  1 of 1 completed\n"
          ]
        },
        {
          "output_type": "stream",
          "name": "stdout",
          "text": [
            "Successfully downloaded data for ^STI\n",
            "Downloading data for EWA...\n",
            "Successfully downloaded data for EWA\n",
            "Downloading data for EWZ...\n"
          ]
        },
        {
          "output_type": "stream",
          "name": "stderr",
          "text": [
            "[*********************100%***********************]  1 of 1 completed\n",
            "[*********************100%***********************]  1 of 1 completed\n"
          ]
        },
        {
          "output_type": "stream",
          "name": "stdout",
          "text": [
            "Successfully downloaded data for EWZ\n",
            "Downloading data for ^MXY...\n",
            "Successfully downloaded data for ^MXY\n",
            "Downloading data for REUG...\n"
          ]
        },
        {
          "output_type": "stream",
          "name": "stderr",
          "text": [
            "\r[*********************100%***********************]  1 of 1 completed\n",
            "ERROR:yfinance:\n",
            "1 Failed download:\n",
            "ERROR:yfinance:['REUG']: YFTzMissingError('$%ticker%: possibly delisted; no timezone found')\n",
            "[*********************100%***********************]  1 of 1 completed\n"
          ]
        },
        {
          "output_type": "stream",
          "name": "stdout",
          "text": [
            "Successfully downloaded data for REUG\n",
            "Downloading data for ^FCHI...\n",
            "Successfully downloaded data for ^FCHI\n",
            "Downloading data for ^NQMAMCN...\n"
          ]
        },
        {
          "output_type": "stream",
          "name": "stderr",
          "text": [
            "\r[*********************100%***********************]  1 of 1 completed\n",
            "ERROR:yfinance:\n",
            "1 Failed download:\n",
            "ERROR:yfinance:['^NQMAMCN']: YFPricesMissingError('$%ticker%: possibly delisted; no price data found  (1d 2019-01-01 -> 2024-11-07)')\n",
            "[*********************100%***********************]  1 of 1 completed\n",
            "ERROR:yfinance:\n",
            "1 Failed download:\n",
            "ERROR:yfinance:['^DJEG20']: YFPricesMissingError('$%ticker%: possibly delisted; no price data found  (1d 2019-01-01 -> 2024-11-07)')\n"
          ]
        },
        {
          "output_type": "stream",
          "name": "stdout",
          "text": [
            "Successfully downloaded data for ^NQMAMCN\n",
            "Downloading data for ^DJEG20...\n",
            "Successfully downloaded data for ^DJEG20\n",
            "Downloading data for XIU.TO...\n"
          ]
        },
        {
          "output_type": "stream",
          "name": "stderr",
          "text": [
            "[*********************100%***********************]  1 of 1 completed\n",
            "[*********************100%***********************]  1 of 1 completed\n"
          ]
        },
        {
          "output_type": "stream",
          "name": "stdout",
          "text": [
            "Successfully downloaded data for XIU.TO\n",
            "Downloading data for ^HSI...\n",
            "Successfully downloaded data for ^HSI\n",
            "Downloading data for 000001.SS^NSEI...\n"
          ]
        },
        {
          "output_type": "stream",
          "name": "stderr",
          "text": [
            "\r[*********************100%***********************]  1 of 1 completed\n",
            "ERROR:yfinance:\n",
            "1 Failed download:\n",
            "ERROR:yfinance:['000001.SS^NSEI']: YFTzMissingError('$%ticker%: possibly delisted; no timezone found')\n",
            "[*********************100%***********************]  1 of 1 completed"
          ]
        },
        {
          "output_type": "stream",
          "name": "stdout",
          "text": [
            "Successfully downloaded data for 000001.SS^NSEI\n",
            "Downloading data for IDX...\n",
            "Successfully downloaded data for IDX\n",
            "Downloading data for PSEI.PS...\n"
          ]
        },
        {
          "output_type": "stream",
          "name": "stderr",
          "text": [
            "\n",
            "[*********************100%***********************]  1 of 1 completed\n",
            "[*********************100%***********************]  1 of 1 completed\n"
          ]
        },
        {
          "output_type": "stream",
          "name": "stdout",
          "text": [
            "Successfully downloaded data for PSEI.PS\n",
            "Downloading data for XU100.IS...\n",
            "Successfully downloaded data for XU100.IS\n",
            "Downloading data for ATX...\n"
          ]
        },
        {
          "output_type": "stream",
          "name": "stderr",
          "text": [
            "[*********************100%***********************]  1 of 1 completed\n",
            "[*********************100%***********************]  1 of 1 completed\n",
            "ERROR:yfinance:\n",
            "1 Failed download:\n",
            "ERROR:yfinance:['^EWN-IV']: YFPricesMissingError('$%ticker%: possibly delisted; no price data found  (1d 2019-01-01 -> 2024-11-07)')\n",
            "[*********************100%***********************]  1 of 1 completed"
          ]
        },
        {
          "output_type": "stream",
          "name": "stdout",
          "text": [
            "Successfully downloaded data for ATX\n",
            "Downloading data for ^EWN-IV...\n",
            "Successfully downloaded data for ^EWN-IV\n",
            "Downloading data for ^OMX...\n"
          ]
        },
        {
          "output_type": "stream",
          "name": "stderr",
          "text": [
            "\n",
            "[*********************100%***********************]  1 of 1 completed\n"
          ]
        },
        {
          "output_type": "stream",
          "name": "stdout",
          "text": [
            "Successfully downloaded data for ^OMX\n",
            "Downloading data for ^OMXC25...\n",
            "Successfully downloaded data for ^OMXC25\n",
            "Downloading data for ^OMXH25...\n"
          ]
        },
        {
          "output_type": "stream",
          "name": "stderr",
          "text": [
            "[*********************100%***********************]  1 of 1 completed\n",
            "[*********************100%***********************]  1 of 1 completed\n"
          ]
        },
        {
          "output_type": "stream",
          "name": "stdout",
          "text": [
            "Successfully downloaded data for ^OMXH25\n",
            "Downloading data for ESNB.DE...\n",
            "Successfully downloaded data for ESNB.DE\n",
            "Downloading data for 0P0000RRIV.SW...\n"
          ]
        },
        {
          "output_type": "stream",
          "name": "stderr",
          "text": [
            "[*********************100%***********************]  1 of 1 completed\n",
            "[*********************100%***********************]  1 of 1 completed\n"
          ]
        },
        {
          "output_type": "stream",
          "name": "stdout",
          "text": [
            "Successfully downloaded data for 0P0000RRIV.SW\n",
            "Downloading data for ^MERV...\n",
            "Successfully downloaded data for ^MERV\n",
            "Downloading data for VNM...\n"
          ]
        },
        {
          "output_type": "stream",
          "name": "stderr",
          "text": [
            "\r[*********************100%***********************]  1 of 1 completed\n"
          ]
        },
        {
          "output_type": "stream",
          "name": "stdout",
          "text": [
            "Successfully downloaded data for VNM\n",
            "Downloading data for GLD3...\n"
          ]
        },
        {
          "output_type": "stream",
          "name": "stderr",
          "text": [
            "\r[*********************100%***********************]  1 of 1 completed\n",
            "ERROR:yfinance:\n",
            "1 Failed download:\n",
            "ERROR:yfinance:['GLD3']: YFTzMissingError('$%ticker%: possibly delisted; no timezone found')\n",
            "[*********************100%***********************]  1 of 1 completed\n"
          ]
        },
        {
          "output_type": "stream",
          "name": "stdout",
          "text": [
            "Successfully downloaded data for GLD3\n",
            "Downloading data for TRET.L...\n",
            "Successfully downloaded data for TRET.L\n",
            "Downloading data for HINS.L...\n"
          ]
        },
        {
          "output_type": "stream",
          "name": "stderr",
          "text": [
            "[*********************100%***********************]  1 of 1 completed\n",
            "[*********************100%***********************]  1 of 1 completed\n",
            "[*********************100%***********************]  1 of 1 completed\n"
          ]
        },
        {
          "output_type": "stream",
          "name": "stdout",
          "text": [
            "Successfully downloaded data for HINS.L\n",
            "Downloading data for HPRO.L...\n",
            "Successfully downloaded data for HPRO.L\n",
            "Downloading data for ROLG.L...\n",
            "Successfully downloaded data for ROLG.L\n",
            "Downloading data for WCOA...\n"
          ]
        },
        {
          "output_type": "stream",
          "name": "stderr",
          "text": [
            "\r[*********************100%***********************]  1 of 1 completed\n",
            "ERROR:yfinance:\n",
            "1 Failed download:\n",
            "ERROR:yfinance:['WCOA']: YFTzMissingError('$%ticker%: possibly delisted; no timezone found')\n",
            "[*********************100%***********************]  1 of 1 completed\n"
          ]
        },
        {
          "output_type": "stream",
          "name": "stdout",
          "text": [
            "Successfully downloaded data for WCOA\n",
            "Downloading data for COCO.MI...\n",
            "Successfully downloaded data for COCO.MI\n",
            "Downloading data for UGAS.MI...\n"
          ]
        },
        {
          "output_type": "stream",
          "name": "stderr",
          "text": [
            "[*********************100%***********************]  1 of 1 completed\n",
            "[*********************100%***********************]  1 of 1 completed\n"
          ]
        },
        {
          "output_type": "stream",
          "name": "stdout",
          "text": [
            "Successfully downloaded data for UGAS.MI\n",
            "Downloading data for KC=F...\n",
            "Successfully downloaded data for KC=F\n",
            "Downloading data for 3HCL.MI...\n"
          ]
        },
        {
          "output_type": "stream",
          "name": "stderr",
          "text": [
            "[*********************100%***********************]  1 of 1 completed\n",
            "[*********************100%***********************]  1 of 1 completed\n"
          ]
        },
        {
          "output_type": "stream",
          "name": "stdout",
          "text": [
            "Successfully downloaded data for 3HCL.MI\n",
            "Downloading data for SPDM.L...\n"
          ]
        },
        {
          "output_type": "stream",
          "name": "stderr",
          "text": [
            "\r[*********************100%***********************]  1 of 1 completed"
          ]
        },
        {
          "output_type": "stream",
          "name": "stdout",
          "text": [
            "Successfully downloaded data for SPDM.L\n",
            "Downloading data for CYSE.L...\n",
            "Successfully downloaded data for CYSE.L\n",
            "Downloading data for WLDS.L...\n"
          ]
        },
        {
          "output_type": "stream",
          "name": "stderr",
          "text": [
            "\n",
            "[*********************100%***********************]  1 of 1 completed\n",
            "[*********************100%***********************]  1 of 1 completed\n"
          ]
        },
        {
          "output_type": "stream",
          "name": "stdout",
          "text": [
            "Successfully downloaded data for WLDS.L\n",
            "Downloading data for DLTM.L...\n",
            "Successfully downloaded data for DLTM.L\n",
            "Downloading data for LILAK...\n"
          ]
        },
        {
          "output_type": "stream",
          "name": "stderr",
          "text": [
            "[*********************100%***********************]  1 of 1 completed\n",
            "[*********************100%***********************]  1 of 1 completed\n"
          ]
        },
        {
          "output_type": "stream",
          "name": "stdout",
          "text": [
            "Successfully downloaded data for LILAK\n",
            "Downloading data for ALAG.L...\n",
            "Successfully downloaded data for ALAG.L\n",
            "Downloading data for LGQM.DE...\n"
          ]
        },
        {
          "output_type": "stream",
          "name": "stderr",
          "text": [
            "\r[*********************100%***********************]  1 of 1 completed\n"
          ]
        },
        {
          "output_type": "stream",
          "name": "stdout",
          "text": [
            "Successfully downloaded data for LGQM.DE\n",
            "Downloading data for GGAL...\n"
          ]
        },
        {
          "output_type": "stream",
          "name": "stderr",
          "text": [
            "[*********************100%***********************]  1 of 1 completed\n",
            "[*********************100%***********************]  1 of 1 completed\n"
          ]
        },
        {
          "output_type": "stream",
          "name": "stdout",
          "text": [
            "Successfully downloaded data for GGAL\n",
            "Downloading data for YPFD.BA...\n",
            "Successfully downloaded data for YPFD.BA\n",
            "Downloading data for PAM...\n"
          ]
        },
        {
          "output_type": "stream",
          "name": "stderr",
          "text": [
            "\r[*********************100%***********************]  1 of 1 completed\n"
          ]
        },
        {
          "output_type": "stream",
          "name": "stdout",
          "text": [
            "Successfully downloaded data for PAM\n",
            "Downloading data for SPY...\n"
          ]
        },
        {
          "output_type": "stream",
          "name": "stderr",
          "text": [
            "\r[*********************100%***********************]  1 of 1 completed\n"
          ]
        },
        {
          "output_type": "stream",
          "name": "stdout",
          "text": [
            "Successfully downloaded data for SPY\n",
            "Downloading data for IKOR...\n"
          ]
        },
        {
          "output_type": "stream",
          "name": "stderr",
          "text": [
            "\r[*********************100%***********************]  1 of 1 completed\n",
            "ERROR:yfinance:\n",
            "1 Failed download:\n",
            "ERROR:yfinance:['IKOR']: YFTzMissingError('$%ticker%: possibly delisted; no timezone found')\n",
            "[*********************100%***********************]  1 of 1 completed\n"
          ]
        },
        {
          "output_type": "stream",
          "name": "stdout",
          "text": [
            "Successfully downloaded data for IKOR\n",
            "Downloading data for AIR.DE...\n",
            "Successfully downloaded data for AIR.DE\n",
            "Downloading data for RHM.DE...\n"
          ]
        },
        {
          "output_type": "stream",
          "name": "stderr",
          "text": [
            "[*********************100%***********************]  1 of 1 completed\n",
            "[*********************100%***********************]  1 of 1 completed\n"
          ]
        },
        {
          "output_type": "stream",
          "name": "stdout",
          "text": [
            "Successfully downloaded data for RHM.DE\n",
            "Downloading data for LDO.MI...\n",
            "Successfully downloaded data for LDO.MI\n",
            "Downloading data for DSY.PA...\n"
          ]
        },
        {
          "output_type": "stream",
          "name": "stderr",
          "text": [
            "[*********************100%***********************]  1 of 1 completed\n",
            "[*********************100%***********************]  1 of 1 completed\n"
          ]
        },
        {
          "output_type": "stream",
          "name": "stdout",
          "text": [
            "Successfully downloaded data for DSY.PA\n",
            "Downloading data for BA.L...\n",
            "Successfully downloaded data for BA.L\n",
            "Downloading data for RTX...\n"
          ]
        },
        {
          "output_type": "stream",
          "name": "stderr",
          "text": [
            "\r[*********************100%***********************]  1 of 1 completed\n"
          ]
        },
        {
          "output_type": "stream",
          "name": "stdout",
          "text": [
            "Successfully downloaded data for RTX\n",
            "Downloading data for LMT...\n"
          ]
        },
        {
          "output_type": "stream",
          "name": "stderr",
          "text": [
            "[*********************100%***********************]  1 of 1 completed\n",
            "[*********************100%***********************]  1 of 1 completed\n"
          ]
        },
        {
          "output_type": "stream",
          "name": "stdout",
          "text": [
            "Successfully downloaded data for LMT\n",
            "Downloading data for HO.PA...\n",
            "Successfully downloaded data for HO.PA\n"
          ]
        }
      ],
      "source": [
        "start_date = '2019-01-01'\n",
        "end_date = '2024-11-07'\n",
        "annual_rfr = 0.06\n",
        "span = 800\n",
        "etf_list = ['IYR', 'QQQ', 'SMH', 'EWI', 'IWB', 'AGG', 'ICSU.L', 'KXI', 'IUSG',\n",
        "            'EWP', 'EFA', 'XSW', 'GREK', 'IJR', 'CSMIB.MI', 'XLF', 'EWY', 'HERG.L',\n",
        "            'USO', 'XAR', 'EWG', 'BRND.L', 'ONEQ', 'VHYL.L', 'SCHD', 'GXC',\n",
        "            'EWQ', 'ITA', 'XLP', 'EWC', 'QTEC', 'IUFS.L', 'TUR', '^N225',\n",
        "            'LTAM.MI', 'VUKG.L', 'SPY', 'EWN', 'XHB', 'FXI', 'RYH', 'SCHA', 'KWEB',\n",
        "            'EZA', '^RUT', 'QDVE.DE', 'EWA', 'XLY', 'XSD', 'CEBS.DE', 'XLE', 'GDXJ',\n",
        "            'EGPT', 'FSTA', 'SPY4.DE', 'VWO', 'FUTY', 'VGOV.L', 'SCHB', 'FEUZ.L', 'VGK',\n",
        "            'NUCG.L', '^STOXX50E', 'EEM', 'FMAT', 'IXG', 'SCHE', 'IHI', 'IEMG', 'HEALL.XC',\n",
        "            'WLDS.L', 'XLU', 'EWD', 'IWO', 'IUESX', 'VNM', 'XLI', 'IHF', 'INDA', 'SPLG',\n",
        "            '^IBEX', 'IWN', 'VWRP.L', 'EPHE', 'RCD', 'DFNS.L', 'RXI', 'HEAW.L', 'SCHF',\n",
        "            'EWU', 'FSEM.L', 'EMLC', 'IDX', 'SCHC', 'EWH', 'XLV', 'EWW', 'WIGG.L', 'IWP',\n",
        "            'RHS', 'EQQQ.DE', 'WCOS.AS', 'IWF', 'IEV', 'SCHX', 'XME', 'GDX', 'UNG', 'EIS',\n",
        "            'RSX', 'SGLN.L', 'EWL', 'IWD', 'EWO', 'IWS', 'IVV', 'XLK', 'IXJ', 'SCHG', 'SCHV',\n",
        "            'XLB', 'EWZ', 'IWR', 'EWJ', 'PSJ', 'THD', 'EMB', 'IJH', 'ECH', 'EWT', 'GSEM.L',\n",
        "            'IUSV', 'STW.PA', 'IWM', 'XRT', 'ARGT', 'VEA', 'FIDU', 'PKW', 'EPOL', 'XLRE',\n",
        "            'INRG.MI','CUKX.L','IGUS.L','CPJ1.L','EHYG.L','EEDG.L','EMHG.L','ROLG.L','FXC',\n",
        "            'IGLT.L','UESD.L','SSLN.L','EMGA.L','ECAR.L','TLT5.L','WTRE','STHS.L','GGRG.L',\n",
        "            'NATP.L','TLTE','XSOE','GOAI.SW','GSLC','TKN.TO','FSMG.L','CLMP.L','CMDY','KWEB',\n",
        "            'KLWD.L','WBIO.L','TLT5.L','ARKG','ARKK','ARKW','REUSEM.XC','PSI20.LS','EWQ','^STI','EWA',\n",
        "            'EWZ','^MXY','REUG', '^FCHI','^NQMAMCN','^DJEG20','XIU.TO','^HSI','000001.SS'\n",
        "            '^NSEI','IDX','PSEI.PS','XU100.IS','ATX','^EWN-IV','^OMX','^OMXC25','^OMXH25','ESNB.DE',\n",
        "            '0P0000RRIV.SW','^MERV','VNM','GLD3','TRET.L','HINS.L','HPRO.L','ROLG.L','WCOA','COCO.MI',\n",
        "            'UGAS.MI','KC=F','3HCL.MI','SPDM.L','CYSE.L','WLDS.L','DLTM.L','LILAK','ALAG.L','LGQM.DE','GGAL',\n",
        "            'YPFD.BA','PAM','SPY','IKOR',\n",
        "            'AIR.DE','RHM.DE','LDO.MI','DSY.PA','BA.L','RTX','LMT','HO.PA']\n",
        "data = download_etf_data(etf_list, start_date, end_date)\n",
        "\n"
      ]
    },
    {
      "cell_type": "code",
      "execution_count": 47,
      "id": "47b07b5d-d16d-4b8f-92bf-d55ea94eabe8",
      "metadata": {
        "id": "47b07b5d-d16d-4b8f-92bf-d55ea94eabe8"
      },
      "outputs": [],
      "source": [
        "excluded_etfs = ['REUS.L','UESD.L','TLT','REUSEM.XC','HEALL.XC','ARGT','EGPT','GGAL','COCO.MI']  # Replace with ETFs you want to exclude\n",
        "data = data.drop(columns=excluded_etfs, errors='ignore')"
      ]
    },
    {
      "cell_type": "code",
      "execution_count": 48,
      "id": "c4e409d4-3378-4aba-bcad-fdfe4c857974",
      "metadata": {
        "scrolled": true,
        "id": "c4e409d4-3378-4aba-bcad-fdfe4c857974",
        "colab": {
          "base_uri": "https://localhost:8080/"
        },
        "outputId": "284c92db-4efa-41df-9cc9-eb64fdc325a4"
      },
      "outputs": [
        {
          "output_type": "stream",
          "name": "stdout",
          "text": [
            "Sortino Ratios (EWMA):\n",
            "Ticker\n",
            "DFNS.L     0.219735\n",
            "GOAI.SW    0.202506\n",
            "NATP.L     0.182951\n",
            "^MERV      0.178461\n",
            "YPFD.BA    0.166336\n",
            "EHYG.L     0.116275\n",
            "SMH        0.100788\n",
            "RHM.DE     0.100608\n",
            "XHB        0.093650\n",
            "QDVE.DE    0.093634\n",
            "Name: 2024-11-06 00:00:00+00:00, dtype: float64\n",
            "\n",
            "Selected ETFs and their tags:\n",
            "DFNS.L: best\n",
            "GOAI.SW: best\n",
            "NATP.L: best\n",
            "^MERV: best\n",
            "YPFD.BA: best\n",
            "EHYG.L: best\n",
            "SMH: best\n",
            "RHM.DE: best\n",
            "XHB: best\n",
            "QDVE.DE: best\n",
            "FIDU: best\n",
            "LDO.MI: best\n",
            "XLI: best\n",
            "XLK: best\n",
            "SCHD: best\n",
            "SCHG: best\n",
            "PAM: earn\n",
            "TKN.TO: earn\n",
            "XME: earn\n",
            "XU100.IS: earn\n",
            "FSMG.L: hedge\n",
            "ICSU.L: mid\n",
            "SCHV: high\n",
            "TLT5.L: hedge\n",
            "RTX: mid\n",
            "ITA: high\n",
            "3HCL.MI: mid\n",
            "3HCL.MI: mid\n",
            "IUSV: high\n",
            "SGLN.L: mid\n",
            "SGLN.L: mid\n",
            "BA.L: high\n",
            "VGOV.L: hedge\n",
            "KC=F: mid\n",
            "EQQQ.DE: high\n",
            "ESNB.DE: hedge\n",
            "LMT: mid\n",
            "IVV: high\n",
            "IGLT.L: hedge\n",
            "PSEI.PS: mid\n",
            "SPY4.DE: high\n",
            "RSX: hedge\n",
            "XLP: mid\n",
            "GSLC: high\n",
            "ROLG.L: hedge\n",
            "^STI: mid\n",
            "SPY: high\n",
            "AGG: hedge\n",
            "SSLN.L: mid\n",
            "IXG: high\n",
            "FSEM.L: hedge\n",
            "STHS.L: mid\n",
            "SPLG: high\n",
            "FXC: hedge\n",
            "GDX: mid\n",
            "QQQ: high\n",
            "^HSI: hedge\n",
            "WCOS.AS: mid\n",
            "SCHX: high\n",
            "HO.PA: mid\n",
            "HO.PA: mid\n",
            "XLF: high\n",
            "WIGG.L: hedge\n",
            "^N225: mid\n",
            "IWF: high\n",
            "EMGA.L: hedge\n",
            "CMDY: mid\n",
            "PKW: high\n",
            "0P0000RRIV.SW: mid\n",
            "0P0000RRIV.SW: mid\n",
            "IWB: high\n",
            "USO: mid\n",
            "USO: mid\n",
            "XAR: high\n",
            "STW.PA: mid\n",
            "STW.PA: mid\n",
            "IUSG: high\n",
            "HEAW.L: hedge\n",
            "FSTA: mid\n",
            "ONEQ: high\n",
            "\n",
            "Final list of candidate ETFs:\n",
            "['IWF', 'SCHD', 'SCHG', 'HO.PA', 'XHB', 'TKN.TO', 'IGLT.L', 'FXC', 'XLK', '^HSI', 'YPFD.BA', 'PKW', 'VGOV.L', 'XLI', 'SMH', '0P0000RRIV.SW', 'HEAW.L', 'QDVE.DE', 'SPY4.DE', 'STHS.L', 'ICSU.L', 'NATP.L', 'SGLN.L', 'RSX', 'SSLN.L', 'QQQ', 'BA.L', 'RHM.DE', 'SCHV', 'IWB', 'ROLG.L', 'GOAI.SW', 'IVV', 'XLF', 'XAR', 'RTX', 'LMT', 'WIGG.L', 'XLP', 'SCHX', 'IUSG', '3HCL.MI', 'TLT5.L', 'DFNS.L', 'ESNB.DE', 'FSEM.L', 'KC=F', 'WCOS.AS', 'XME', 'EQQQ.DE', 'SPLG', 'CMDY', 'PSEI.PS', 'IXG', 'PAM', 'LDO.MI', 'SPY', 'FIDU', 'EMGA.L', 'STW.PA', 'FSTA', 'ONEQ', 'XU100.IS', 'AGG', 'GDX', '^N225', 'EHYG.L', 'ITA', 'FSMG.L', 'USO', '^MERV', 'GSLC', '^STI', 'IUSV']\n",
            "\n",
            "Insufficient overlapping data for selected ETFs.\n"
          ]
        }
      ],
      "source": [
        "returns = calculate_returns(data)\n",
        "ewma_expected_returns, ewma_std_devs = calculate_ewma_statistics(returns, span=1260)\n",
        "ewma_cov_matrix = calculate_ewma_covariance_matrix(returns, span=1260)\n",
        "sortino_ratios = calculate_sortino_ratio_ewma(returns, annual_rfr, span=1260)\n",
        "print(\"Sortino Ratios (EWMA):\")\n",
        "print(sortino_ratios.head(10))\n",
        "\n",
        "# Selection of ETFs\n",
        "\n",
        "# 9 best Sortino ratios tagged as 'best'\n",
        "best_etfs = sortino_ratios.head(16).index.tolist()\n",
        "etf_tags = {etf: 'best' for etf in best_etfs}\n",
        "\n",
        "# 4 highest expected returns (excluding already selected), tagged as 'earn'\n",
        "remaining_etfs = ewma_expected_returns.drop(index=best_etfs)\n",
        "top_er_etfs = remaining_etfs.sort_values(ascending=False).head(4).index.tolist()\n",
        "for etf in top_er_etfs:\n",
        "    etf_tags[etf] = 'earn'\n",
        "\n",
        "# Combine selected ETFs\n",
        "selected_etfs = best_etfs + top_er_etfs\n",
        "used_etfs = set(selected_etfs)\n",
        "\n",
        "# For each selected ETF, find ETFs according to specified criteria\n",
        "for etf in best_etfs + top_er_etfs:\n",
        "    # Find lowest covariance pair (tagged 'hedge')\n",
        "    remaining = set(returns.columns) - used_etfs\n",
        "    if not remaining:\n",
        "        break\n",
        "    cov_series = ewma_cov_matrix.loc[etf, list(remaining)].dropna()\n",
        "    if cov_series.empty:\n",
        "        continue\n",
        "    hedge_etf = cov_series.idxmin()\n",
        "    selected_etfs.append(hedge_etf)\n",
        "    etf_tags[hedge_etf] = 'hedge'\n",
        "    used_etfs.add(hedge_etf)\n",
        "\n",
        "    # Find lowest covariance ETF with e(r) > risk-free rate (tagged 'mid')\n",
        "    er_filtered = ewma_expected_returns[list(remaining)]\n",
        "    er_filtered = er_filtered[er_filtered > annual_rfr / 252]\n",
        "    if not er_filtered.empty:\n",
        "        cov_series_er = ewma_cov_matrix.loc[etf, er_filtered.index].dropna()\n",
        "        if not cov_series_er.empty:\n",
        "            mid_etf = cov_series_er.idxmin()\n",
        "            selected_etfs.append(mid_etf)\n",
        "            etf_tags[mid_etf] = 'mid'\n",
        "            used_etfs.add(mid_etf)\n",
        "\n",
        "    # Find lowest covariance ETF from top 20% Sortino ratio (tagged 'high')\n",
        "    sortino_top_20 = sortino_ratios.head(int(len(sortino_ratios) * 0.2))\n",
        "    remaining_high = set(sortino_top_20.index) - used_etfs\n",
        "    if remaining_high:\n",
        "        cov_series_high = ewma_cov_matrix.loc[etf, list(remaining_high)].dropna()\n",
        "        if not cov_series_high.empty:\n",
        "            high_etf = cov_series_high.idxmin()\n",
        "            selected_etfs.append(high_etf)\n",
        "            etf_tags[high_etf] = 'high'\n",
        "            used_etfs.add(high_etf)\n",
        "\n",
        "print(\"\\nSelected ETFs and their tags:\")\n",
        "for etf in selected_etfs:\n",
        "    print(f\"{etf}: {etf_tags.get(etf, 'unlabeled')}\")\n",
        "\n",
        "selected_etfs = list(used_etfs)\n",
        "print(\"\\nFinal list of candidate ETFs:\")\n",
        "print(selected_etfs)\n",
        "\n",
        "# Check overlapping data\n",
        "returns_selected = returns[selected_etfs].dropna()\n",
        "if len(returns_selected) < 200:\n",
        "    print(\"\\nInsufficient overlapping data for selected ETFs.\")\n",
        "    # Optionally, implement logic to exclude problematic ETFs and select replacements\n",
        "else:\n",
        "    print(\"\\nSufficient overlapping data for selected ETFs.\")\n"
      ]
    },
    {
      "cell_type": "code",
      "execution_count": 49,
      "id": "6e1bf7b6-9a73-4e7c-9b57-fe18d2bff767",
      "metadata": {
        "id": "6e1bf7b6-9a73-4e7c-9b57-fe18d2bff767",
        "colab": {
          "base_uri": "https://localhost:8080/"
        },
        "outputId": "772609d3-2b46-4ddc-9223-59bda84e6ff4"
      },
      "outputs": [
        {
          "output_type": "stream",
          "name": "stdout",
          "text": [
            "Data Coverage for Each Selected ETF:\n",
            "Ticker\n",
            "GOAI.SW     248\n",
            "NATP.L      343\n",
            "TLT5.L      378\n",
            "EHYG.L      387\n",
            "DFNS.L      405\n",
            "           ... \n",
            "3HCL.MI    1491\n",
            "RHM.DE     1491\n",
            "WCOS.AS    1501\n",
            "STW.PA     1502\n",
            "HO.PA      1502\n",
            "Length: 74, dtype: int64\n"
          ]
        }
      ],
      "source": [
        "# Calculate the number of non-NaN entries for each selected ETF\n",
        "data_coverage = data[selected_etfs].notna().sum().sort_values()\n",
        "\n",
        "print(\"Data Coverage for Each Selected ETF:\")\n",
        "print(data_coverage)\n"
      ]
    },
    {
      "cell_type": "code",
      "execution_count": 50,
      "id": "6cfef375-391f-4abd-ae4b-2881f1ba94da",
      "metadata": {
        "id": "6cfef375-391f-4abd-ae4b-2881f1ba94da",
        "colab": {
          "base_uri": "https://localhost:8080/"
        },
        "outputId": "099765f9-7ca6-498e-bcb9-71ca56341cd5"
      },
      "outputs": [
        {
          "output_type": "stream",
          "name": "stdout",
          "text": [
            "Ticker\n",
            "IYR       50\n",
            "QQQ       50\n",
            "SMH       50\n",
            "EWI       50\n",
            "IWB       50\n",
            "          ..\n",
            "DSY.PA    21\n",
            "BA.L      45\n",
            "RTX       50\n",
            "LMT       50\n",
            "HO.PA     21\n",
            "Length: 214, dtype: int64\n"
          ]
        }
      ],
      "source": [
        "print(data.isna().sum())\n"
      ]
    },
    {
      "cell_type": "code",
      "execution_count": 51,
      "id": "c11bd090-1a0c-4bd8-aa5c-4ab753ddb79e",
      "metadata": {
        "scrolled": true,
        "id": "c11bd090-1a0c-4bd8-aa5c-4ab753ddb79e",
        "colab": {
          "base_uri": "https://localhost:8080/"
        },
        "outputId": "2e428096-8739-4ea6-8b1b-a36f8f0bafad"
      },
      "outputs": [
        {
          "output_type": "stream",
          "name": "stdout",
          "text": [
            "\n",
            "Optimized Portfolio:\n",
            "      ETF  Weight\n",
            "0     IWF   0.000\n",
            "1    SCHD   0.000\n",
            "2    SCHG   0.121\n",
            "3   HO.PA   0.000\n",
            "4     XHB   0.000\n",
            "..    ...     ...\n",
            "69    USO   0.000\n",
            "70  ^MERV   0.019\n",
            "71   GSLC   0.000\n",
            "72   ^STI   0.000\n",
            "73   IUSV   0.000\n",
            "\n",
            "[74 rows x 2 columns]\n",
            "Expected Return: 0.00175, Std Dev: 0.00297, Sharpe Ratio: 0.51001\n"
          ]
        }
      ],
      "source": [
        "try:\n",
        "    portfolio, port_return, port_std_dev, sharpe_ratio = optimize_portfolio_ewma(\n",
        "        returns, selected_etfs, annual_rfr, span=1260)\n",
        "    portfolio['Weight'] = portfolio['Weight'].apply(lambda x: round(x, 3))\n",
        "    print(\"\\nOptimized Portfolio:\")\n",
        "    print(portfolio)\n",
        "    print(f\"Expected Return: {port_return:.5f}, Std Dev: {port_std_dev:.5f}, Sharpe Ratio: {sharpe_ratio:.5f}\")\n",
        "    suggested_portfolios = [{\n",
        "        'Portfolio': portfolio,\n",
        "        'Returns': [port_return],\n",
        "        'StdDevs': [port_std_dev],\n",
        "        'SharpeRatio': sharpe_ratio\n",
        "    }]\n",
        "except ValueError as e:\n",
        "    print(f\"Optimization failed: {e}\")\n"
      ]
    },
    {
      "cell_type": "code",
      "execution_count": 52,
      "id": "ed9c1d00-a7c0-4857-9d68-f9bf0ec4e24d",
      "metadata": {
        "id": "ed9c1d00-a7c0-4857-9d68-f9bf0ec4e24d",
        "colab": {
          "base_uri": "https://localhost:8080/"
        },
        "outputId": "78d55c88-b702-4291-a547-538d42313b3e"
      },
      "outputs": [
        {
          "output_type": "stream",
          "name": "stdout",
          "text": [
            "\\nOptimized Portfolio:\n",
            "        ETF  Weight\n",
            "2      SCHG   0.121\n",
            "5    TKN.TO   0.040\n",
            "18  SPY4.DE   0.003\n",
            "19   STHS.L   0.077\n",
            "20   ICSU.L   0.093\n",
            "22   SGLN.L   0.183\n",
            "27   RHM.DE   0.015\n",
            "33      XLF   0.052\n",
            "35      RTX   0.120\n",
            "43   DFNS.L   0.004\n",
            "45   FSEM.L   0.189\n",
            "52  PSEI.PS   0.062\n",
            "66   EHYG.L   0.008\n",
            "67      ITA   0.013\n",
            "70    ^MERV   0.019\n",
            "Expected Return: 0.00175, Std Dev: 0.00297, Sharpe Ratio: 0.51001\n"
          ]
        }
      ],
      "source": [
        "try:\n",
        "    portfolio, port_return, port_std_dev, sharpe_ratio = optimize_portfolio_ewma(\n",
        "        returns, selected_etfs, annual_rfr, span=1260)\n",
        "    portfolio['Weight'] = portfolio['Weight'].apply(lambda x: round(x, 3))\n",
        "\n",
        "    # Filter out ETFs with weight approximately 0\n",
        "    filtered_portfolio = portfolio[portfolio['Weight'] > 0]\n",
        "\n",
        "    print(\"\\\\nOptimized Portfolio:\")\n",
        "    print(filtered_portfolio)\n",
        "    print(f\"Expected Return: {port_return:.5f}, Std Dev: {port_std_dev:.5f}, Sharpe Ratio: {sharpe_ratio:.5f}\")\n",
        "    suggested_portfolios = [{\n",
        "        'Portfolio': filtered_portfolio,\n",
        "        'Returns': [port_return],\n",
        "        'StdDevs': [port_std_dev],\n",
        "        'SharpeRatio': sharpe_ratio\n",
        "    }]\n",
        "except ValueError as e:\n",
        "    print(f\"Optimization failed: {e}\")"
      ]
    },
    {
      "cell_type": "code",
      "execution_count": 52,
      "id": "6b996de8-a39f-47aa-b203-d1a7aa530785",
      "metadata": {
        "id": "6b996de8-a39f-47aa-b203-d1a7aa530785"
      },
      "outputs": [],
      "source": []
    },
    {
      "cell_type": "code",
      "execution_count": 53,
      "id": "66669bea-8bd4-4038-8191-64149bb5ee66",
      "metadata": {
        "id": "66669bea-8bd4-4038-8191-64149bb5ee66",
        "colab": {
          "base_uri": "https://localhost:8080/",
          "height": 738
        },
        "outputId": "590346f3-b0c2-4ee7-aa6e-b4d34a6f4ba4"
      },
      "outputs": [
        {
          "output_type": "display_data",
          "data": {
            "text/plain": [
              "<Figure size 1200x800 with 1 Axes>"
            ],
            "image/png": "[encoded data removed]"
          },
          "metadata": {}
        }
      ],
      "source": [
        "plot_ios(suggested_portfolios, returns, annual_rfr)\n"
      ]
    },
    {
      "cell_type": "code",
      "execution_count": 54,
      "id": "eddb470e-8b6d-494e-b66c-3bb757d9cae6",
      "metadata": {
        "id": "eddb470e-8b6d-494e-b66c-3bb757d9cae6",
        "colab": {
          "base_uri": "https://localhost:8080/",
          "height": 454
        },
        "outputId": "476803da-52fc-49ed-9458-a6023768fe52"
      },
      "outputs": [
        {
          "output_type": "display_data",
          "data": {
            "text/plain": [
              "<Figure size 1200x800 with 1 Axes>"
            ],
            "image/png": "[encoded data removed]"
          },
          "metadata": {}
        }
      ],
      "source": [
        "plot_historical_performance(suggested_portfolios, returns)\n"
      ]
    },
    {
      "cell_type": "code",
      "execution_count": 54,
      "id": "545a656f-a9c0-412e-9620-92f8929a0dde",
      "metadata": {
        "id": "545a656f-a9c0-412e-9620-92f8929a0dde"
      },
      "outputs": [],
      "source": []
    },
    {
      "cell_type": "code",
      "execution_count": 54,
      "id": "c904ebf1-e638-47eb-b381-2b554860ec04",
      "metadata": {
        "id": "c904ebf1-e638-47eb-b381-2b554860ec04"
      },
      "outputs": [],
      "source": []
    },
    {
      "cell_type": "code",
      "execution_count": 58,
      "id": "9950f6ee-ae95-4de9-ad12-94c86a2cf524",
      "metadata": {
        "id": "9950f6ee-ae95-4de9-ad12-94c86a2cf524",
        "colab": {
          "base_uri": "https://localhost:8080/",
          "height": 109
        },
        "outputId": "8017c31c-1001-466d-d450-a7ddf8dd3938"
      },
      "outputs": [
        {
          "output_type": "error",
          "ename": "SyntaxError",
          "evalue": "incomplete input (<ipython-input-58-ee5f1620b74d>, line 66)",
          "traceback": [
            "\u001b[0;36m  File \u001b[0;32m\"<ipython-input-58-ee5f1620b74d>\"\u001b[0;36m, line \u001b[0;32m66\u001b[0m\n\u001b[0;31m    result = minimize(\u001b[0m\n\u001b[0m                      ^\u001b[0m\n\u001b[0;31mSyntaxError\u001b[0m\u001b[0;31m:\u001b[0m incomplete input\n"
          ]
        }
      ],
      "source": [
        "import pandas as pd\n",
        "import numpy as np\n",
        "from scipy.optimize import minimize\n",
        "\n",
        "def expand_portfolio(base_portfolio, returns, min_base_weight=0.5, annual_rfr=0.06, span=1260):\n",
        "    \"\"\"\n",
        "    Composes an optimal portfolio expansion using the base portfolio as a required component.\n",
        "\n",
        "    Args:\n",
        "    - base_portfolio (dict): A dictionary with tickers as keys and weights as values.\n",
        "    - returns (pd.DataFrame): DataFrame containing returns for all available tickers.\n",
        "    - min_base_weight (float): The minimum weight of the base portfolio in the final result (0 < min_base_weight < 1).\n",
        "    - annual_rfr (float): Annual risk-free rate (default is 0.06).\n",
        "    - span (int): Span for the EWMA calculations (default is 1260).\n",
        "\n",
        "    Returns:\n",
        "    - pd.DataFrame: DataFrame with the optimized weights for the expanded portfolio.\n",
        "    - float: Expected return of the expanded portfolio.\n",
        "    - float: Standard deviation of the expanded portfolio.\n",
        "    - float: Sharpe ratio of the expanded portfolio.\n",
        "    \"\"\"\n",
        "    if not (0 < min_base_weight < 1):\n",
        "        raise ValueError(\"min_base_weight must be between 0 and 1.\")\n",
        "\n",
        "    # 1. Check if base portfolio tickers are in returns DataFrame\n",
        "    base_tickers = list(base_portfolio.keys())\n",
        "    missing_base_tickers = [ticker for ticker in base_tickers if ticker not in returns.columns]\n",
        "    if missing_base_tickers:\n",
        "        raise ValueError(f\"The following tickers from the base portfolio are missing in the 'returns' DataFrame: {missing_base_tickers}\")\n",
        "\n",
        "    # 2. Get tickers for expansion (all downloaded tickers not in base portfolio)\n",
        "    all_downloaded_tickers = returns.columns.tolist()\n",
        "    expansion_tickers = [ticker for ticker in all_downloaded_tickers if ticker not in base_tickers]\n",
        "\n",
        "    if not expansion_tickers:\n",
        "        raise ValueError(\"No additional tickers available for expansion (all downloaded tickers are already in the base portfolio).\")\n",
        "\n",
        "    # 3. Prepare data for optimization\n",
        "    base_weights = np.array(list(base_portfolio.values()))\n",
        "    base_weights /= base_weights.sum()  # Normalize base weights\n",
        "\n",
        "    returns_base = returns[base_tickers].dropna(how='any')  # Returns for base portfolio\n",
        "    returns_expansion = returns[expansion_tickers].dropna(how='any') # Returns for expansion tickers\n",
        "\n",
        "    ewma_expected_returns = returns_base.ewm(span=span).mean().iloc[-1] #Expected returns for base portfolio\n",
        "\n",
        "    # Assuming ewma_cov_matrix is calculated for all assets and not just base assets\n",
        "    ewma_cov_matrix = returns[base_tickers + expansion_tickers].ewm(span=span).cov().xs(returns.index[-1], level=0) # Covariance matrix of base and expansion portfolio\n",
        "\n",
        "    # 4. Define optimization function\n",
        "    def negative_sharpe_ratio(weights):\n",
        "        # Combine base and expansion weights\n",
        "        combined_weights = np.hstack((min_base_weight * base_weights, (1 - min_base_weight) * weights))\n",
        "        #Get expected returns of combined portfolio (base + expansion)\n",
        "        portfolio_return = np.dot(combined_weights, ewma_expected_returns.append(returns_expansion.ewm(span=span).mean().iloc[-1]))\n",
        "        #Get std deviation of combined portfolio (base + expansion)\n",
        "        portfolio_std_dev = np.sqrt(np.dot(combined_weights.T, np.dot(ewma_cov_matrix, combined_weights)))\n",
        "        sharpe_ratio = (portfolio_return - (annual_rfr / 252)) / portfolio_std_dev\n",
        "        return -sharpe_ratio\n",
        "\n",
        "    # 5. Perform optimization\n",
        "    initial_guess = np.array([1 / len(expansion_tickers)] * len(expansion_tickers))\n",
        "    bounds = [(0, 1)] * len(expansion_tickers)\n",
        "    constraints = {'type': 'eq', 'fun': lambda x: np.sum(x) - 1}\n",
        "\n",
        "    result = minimize("
      ]
    },
    {
      "cell_type": "code",
      "execution_count": 59,
      "id": "258c02d8-04fb-4e31-845c-f11d67d7045d",
      "metadata": {
        "id": "258c02d8-04fb-4e31-845c-f11d67d7045d",
        "colab": {
          "base_uri": "https://localhost:8080/",
          "height": 417
        },
        "outputId": "414e8fd2-8f7a-49f4-e7ab-7ca37c9e112e"
      },
      "outputs": [
        {
          "output_type": "error",
          "ename": "ValueError",
          "evalue": "No additional tickers available for expansion.",
          "traceback": [
            "\u001b[0;31m---------------------------------------------------------------------------\u001b[0m",
            "\u001b[0;31mValueError\u001b[0m                                Traceback (most recent call last)",
            "\u001b[0;32m<ipython-input-59-61425ad90ce0>\u001b[0m in \u001b[0;36m<cell line: 1>\u001b[0;34m()\u001b[0m\n\u001b[0;32m----> 1\u001b[0;31m \u001b[0mexpand_portfolio\u001b[0m\u001b[0;34m(\u001b[0m\u001b[0;34m{\u001b[0m\u001b[0;34m'AIR.DE'\u001b[0m\u001b[0;34m:\u001b[0m\u001b[0;36m0.125\u001b[0m\u001b[0;34m,\u001b[0m\u001b[0;34m'RHM.DE'\u001b[0m\u001b[0;34m:\u001b[0m\u001b[0;36m0.125\u001b[0m\u001b[0;34m,\u001b[0m\u001b[0;34m'LDO.MI'\u001b[0m\u001b[0;34m:\u001b[0m\u001b[0;36m0.125\u001b[0m\u001b[0;34m,\u001b[0m\u001b[0;34m'DSY.PA'\u001b[0m\u001b[0;34m:\u001b[0m\u001b[0;36m0.125\u001b[0m\u001b[0;34m,\u001b[0m\u001b[0;34m'BA.L'\u001b[0m\u001b[0;34m:\u001b[0m\u001b[0;36m0.125\u001b[0m\u001b[0;34m,\u001b[0m\u001b[0;34m'RTX'\u001b[0m\u001b[0;34m:\u001b[0m\u001b[0;36m0.125\u001b[0m\u001b[0;34m,\u001b[0m\u001b[0;34m'LMT'\u001b[0m\u001b[0;34m:\u001b[0m\u001b[0;36m0.125\u001b[0m\u001b[0;34m,\u001b[0m\u001b[0;34m'HO.PA'\u001b[0m\u001b[0;34m:\u001b[0m\u001b[0;36m0.125\u001b[0m\u001b[0;34m}\u001b[0m\u001b[0;34m)\u001b[0m\u001b[0;34m\u001b[0m\u001b[0;34m\u001b[0m\u001b[0m\n\u001b[0m",
            "\u001b[0;32m<ipython-input-55-f6b8cab6059d>\u001b[0m in \u001b[0;36mexpand_portfolio\u001b[0;34m(base_portfolio, returns, min_base_weight, annual_rfr, span)\u001b[0m\n\u001b[1;32m     43\u001b[0m \u001b[0;34m\u001b[0m\u001b[0m\n\u001b[1;32m     44\u001b[0m     \u001b[0;32mif\u001b[0m \u001b[0mreturns_non_base\u001b[0m\u001b[0;34m.\u001b[0m\u001b[0mempty\u001b[0m \u001b[0;32mor\u001b[0m \u001b[0mlen\u001b[0m\u001b[0;34m(\u001b[0m\u001b[0mreturns_non_base\u001b[0m\u001b[0;34m.\u001b[0m\u001b[0mcolumns\u001b[0m\u001b[0;34m)\u001b[0m \u001b[0;34m<\u001b[0m \u001b[0;36m1\u001b[0m\u001b[0;34m:\u001b[0m\u001b[0;34m\u001b[0m\u001b[0;34m\u001b[0m\u001b[0m\n\u001b[0;32m---> 45\u001b[0;31m         \u001b[0;32mraise\u001b[0m \u001b[0mValueError\u001b[0m\u001b[0;34m(\u001b[0m\u001b[0;34m\"No additional tickers available for expansion.\"\u001b[0m\u001b[0;34m)\u001b[0m\u001b[0;34m\u001b[0m\u001b[0;34m\u001b[0m\u001b[0m\n\u001b[0m\u001b[1;32m     46\u001b[0m \u001b[0;34m\u001b[0m\u001b[0m\n\u001b[1;32m     47\u001b[0m     \u001b[0minitial_guess\u001b[0m \u001b[0;34m=\u001b[0m \u001b[0mnp\u001b[0m\u001b[0;34m.\u001b[0m\u001b[0marray\u001b[0m\u001b[0;34m(\u001b[0m\u001b[0;34m[\u001b[0m\u001b[0;36m1\u001b[0m \u001b[0;34m/\u001b[0m \u001b[0mlen\u001b[0m\u001b[0;34m(\u001b[0m\u001b[0mreturns_non_base\u001b[0m\u001b[0;34m.\u001b[0m\u001b[0mcolumns\u001b[0m\u001b[0;34m)\u001b[0m\u001b[0;34m]\u001b[0m \u001b[0;34m*\u001b[0m \u001b[0mlen\u001b[0m\u001b[0;34m(\u001b[0m\u001b[0mreturns_non_base\u001b[0m\u001b[0;34m.\u001b[0m\u001b[0mcolumns\u001b[0m\u001b[0;34m)\u001b[0m\u001b[0;34m)\u001b[0m\u001b[0;34m\u001b[0m\u001b[0;34m\u001b[0m\u001b[0m\n",
            "\u001b[0;31mValueError\u001b[0m: No additional tickers available for expansion."
          ]
        }
      ],
      "source": [
        "expand_portfolio({'AIR.DE':0.125,'RHM.DE':0.125,'LDO.MI':0.125,'DSY.PA':0.125,'BA.L':0.125,'RTX':0.125,'LMT':0.125,'HO.PA':0.125})"
      ]
    },
    {
      "cell_type": "code",
      "execution_count": 59,
      "id": "8979809e-ee34-4b78-ade5-f71909ec1df1",
      "metadata": {
        "id": "8979809e-ee34-4b78-ade5-f71909ec1df1"
      },
      "outputs": [],
      "source": []
    }
  ],
  "metadata": {
    "kernelspec": {
      "display_name": "Python 3 (ipykernel)",
      "language": "python",
      "name": "python3"
    },
    "language_info": {
      "codemirror_mode": {
        "name": "ipython",
        "version": 3
      },
      "file_extension": ".py",
      "mimetype": "text/x-python",
      "name": "python",
      "nbconvert_exporter": "python",
      "pygments_lexer": "ipython3",
      "version": "3.12.4"
    },
    "colab": {
      "provenance": [],
      "include_colab_link": true
    }
  },
  "nbformat": 4,
  "nbformat_minor": 5
}